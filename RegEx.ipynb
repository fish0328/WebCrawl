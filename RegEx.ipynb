{
 "cells": [
  {
   "cell_type": "code",
   "execution_count": 1,
   "metadata": {
    "ExecuteTime": {
     "end_time": "2020-03-24T13:42:19.206638Z",
     "start_time": "2020-03-24T13:42:19.204636Z"
    }
   },
   "outputs": [],
   "source": [
    "import re"
   ]
  },
  {
   "cell_type": "markdown",
   "metadata": {},
   "source": [
    "# **正则配对** "
   ]
  },
  {
   "cell_type": "code",
   "execution_count": 6,
   "metadata": {
    "ExecuteTime": {
     "end_time": "2020-03-23T03:20:21.108384Z",
     "start_time": "2020-03-23T03:20:21.106383Z"
    }
   },
   "outputs": [
    {
     "name": "stdout",
     "output_type": "stream",
     "text": [
      "<re.Match object; span=(4, 7), match='run'>\n",
      "<re.Match object; span=(5, 8), match='ran'>\n"
     ]
    }
   ],
   "source": [
    "p1=r'r[au]n'\n",
    "print(re.search(p1,'dog runs to cat'))\n",
    "print(re.search(p1,'dogs ran to cat'))"
   ]
  },
  {
   "cell_type": "code",
   "execution_count": 14,
   "metadata": {
    "ExecuteTime": {
     "end_time": "2020-03-23T03:23:29.629505Z",
     "start_time": "2020-03-23T03:23:29.626503Z"
    }
   },
   "outputs": [
    {
     "name": "stdout",
     "output_type": "stream",
     "text": [
      "None\n",
      "<re.Match object; span=(5, 8), match='ran'>\n",
      "<re.Match object; span=(4, 7), match='r2n'>\n",
      "<re.Match object; span=(5, 8), match='run'>\n"
     ]
    }
   ],
   "source": [
    "print(re.search(r'r[A-Z]n','dogs runs to cat'))\n",
    "print(re.search(r'r[a-z]n','dogs ran to cat'))\n",
    "print(re.search(r'r[0-9]n','dog r2n to cat'))\n",
    "print(re.search(r'r[0-9a-z]n','dogs run to cat'))"
   ]
  },
  {
   "cell_type": "markdown",
   "metadata": {},
   "source": [
    "# 特殊匹配"
   ]
  },
  {
   "cell_type": "markdown",
   "metadata": {},
   "source": [
    "## 数字"
   ]
  },
  {
   "cell_type": "code",
   "execution_count": 17,
   "metadata": {
    "ExecuteTime": {
     "end_time": "2020-03-23T03:27:46.770489Z",
     "start_time": "2020-03-23T03:27:46.767486Z"
    }
   },
   "outputs": [
    {
     "name": "stdout",
     "output_type": "stream",
     "text": [
      "<re.Match object; span=(5, 8), match='r2n'>\n",
      "<re.Match object; span=(5, 8), match='rUn'>\n"
     ]
    }
   ],
   "source": [
    "#小d，匹配所有数字\n",
    "print(re.search(r'r\\dn','dogs r2n to cat'))\n",
    "#大D，匹配所有非数字\n",
    "print(re.search(r'r\\Dn','dogs rUn to cat'))"
   ]
  },
  {
   "cell_type": "markdown",
   "metadata": {},
   "source": [
    "## 空白"
   ]
  },
  {
   "cell_type": "code",
   "execution_count": 25,
   "metadata": {
    "ExecuteTime": {
     "end_time": "2020-03-23T03:30:41.681336Z",
     "start_time": "2020-03-23T03:30:41.678333Z"
    }
   },
   "outputs": [
    {
     "name": "stdout",
     "output_type": "stream",
     "text": [
      "a\tb\n",
      "<re.Match object; span=(0, 3), match='r\\nn'>\n",
      "<re.Match object; span=(4, 7), match='run'>\n"
     ]
    }
   ],
   "source": [
    "#s，匹配所有带空白的，\\t \\n \\r \\f \\v\n",
    "print('a\\tb')\n",
    "print(re.search(r'r\\sn','r\\nn r4n'))\n",
    "#S,匹配所有非空白\n",
    "print(re.search(r'r\\Sn','r\\nn run'))"
   ]
  },
  {
   "cell_type": "markdown",
   "metadata": {},
   "source": [
    "## 字母，数字和“_”"
   ]
  },
  {
   "cell_type": "code",
   "execution_count": 27,
   "metadata": {
    "ExecuteTime": {
     "end_time": "2020-03-23T03:37:51.124726Z",
     "start_time": "2020-03-23T03:37:51.121724Z"
    }
   },
   "outputs": [
    {
     "name": "stdout",
     "output_type": "stream",
     "text": [
      "<re.Match object; span=(4, 7), match='run'>\n",
      "<re.Match object; span=(0, 3), match='r\\nn'>\n"
     ]
    }
   ],
   "source": [
    "#w:[a-zA-Z0-9]\n",
    "print(re.search(r'r\\wn','r\\nn run'))\n",
    "#W，与w相反\n",
    "print(re.search(r'r\\Wn','r\\nn run'))"
   ]
  },
  {
   "cell_type": "markdown",
   "metadata": {},
   "source": [
    "## 空白字符"
   ]
  },
  {
   "cell_type": "code",
   "execution_count": 31,
   "metadata": {
    "ExecuteTime": {
     "end_time": "2020-03-23T03:43:03.550757Z",
     "start_time": "2020-03-23T03:43:03.546753Z"
    }
   },
   "outputs": [
    {
     "name": "stdout",
     "output_type": "stream",
     "text": [
      "<re.Match object; span=(5, 8), match='run'>\n",
      "<re.Match object; span=(8, 13), match=' run '>\n"
     ]
    }
   ],
   "source": [
    "#b 空字符，只有单词前后的空格\n",
    "print(re.search(r'\\brun\\b','dogs run to cat'))\n",
    "#B 匹配到全部的空字符\n",
    "print(re.search(r'\\B run \\B','dogs     run     to cat'))"
   ]
  },
  {
   "cell_type": "markdown",
   "metadata": {},
   "source": [
    "## 特殊字符  任意字符"
   ]
  },
  {
   "cell_type": "code",
   "execution_count": 36,
   "metadata": {
    "ExecuteTime": {
     "end_time": "2020-03-23T03:49:18.366275Z",
     "start_time": "2020-03-23T03:49:18.364283Z"
    }
   },
   "outputs": [
    {
     "name": "stdout",
     "output_type": "stream",
     "text": [
      "<re.Match object; span=(0, 5), match='runs\\\\'>\n",
      "<re.Match object; span=(0, 3), match='r[n'>\n"
     ]
    }
   ],
   "source": [
    "# \\\\ 匹配|\n",
    "print(re.search(r'runs\\\\','runs\\ to me'))\n",
    "# . 匹配所有除了|n\n",
    "print(re.search(r'r.n','r[n to me'))"
   ]
  },
  {
   "cell_type": "markdown",
   "metadata": {},
   "source": [
    "## 句首句尾"
   ]
  },
  {
   "cell_type": "code",
   "execution_count": 39,
   "metadata": {
    "ExecuteTime": {
     "end_time": "2020-03-23T03:50:52.636916Z",
     "start_time": "2020-03-23T03:50:52.632913Z"
    }
   },
   "outputs": [
    {
     "name": "stdout",
     "output_type": "stream",
     "text": [
      "<re.Match object; span=(0, 3), match='dog'>\n",
      "<re.Match object; span=(8, 11), match='cat'>\n"
     ]
    }
   ],
   "source": [
    "# ^ start\n",
    "print(re.search(r'^dog','dog runs '))\n",
    "# $ end\n",
    "print(re.search(r'cat$','it is a cat'))"
   ]
  },
  {
   "cell_type": "markdown",
   "metadata": {},
   "source": [
    "## 是否"
   ]
  },
  {
   "cell_type": "code",
   "execution_count": 41,
   "metadata": {
    "ExecuteTime": {
     "end_time": "2020-03-23T03:53:20.875486Z",
     "start_time": "2020-03-23T03:53:20.872483Z"
    }
   },
   "outputs": [
    {
     "name": "stdout",
     "output_type": "stream",
     "text": [
      "<re.Match object; span=(0, 6), match='Monday'>\n",
      "<re.Match object; span=(0, 3), match='Mon'>\n"
     ]
    }
   ],
   "source": [
    "#? 有或者米有，都能显示\n",
    "print(re.search(r'Mon(day)?','Monday'))\n",
    "print(re.search(r'Mon(day)?','Mon'))"
   ]
  },
  {
   "cell_type": "markdown",
   "metadata": {},
   "source": [
    "# 多行匹配"
   ]
  },
  {
   "cell_type": "code",
   "execution_count": 44,
   "metadata": {
    "ExecuteTime": {
     "end_time": "2020-03-23T03:57:34.539143Z",
     "start_time": "2020-03-23T03:57:34.535139Z"
    }
   },
   "outputs": [
    {
     "name": "stdout",
     "output_type": "stream",
     "text": [
      "None\n",
      "<re.Match object; span=(17, 18), match='I'>\n"
     ]
    }
   ],
   "source": [
    "string='''\n",
    "dog run to cat.\n",
    "I run to dog\n",
    "'''\n",
    "print(re.search(r'^I',string))\n",
    "print(re.search(r'^I',string,flags=re.M))#multi-lines"
   ]
  },
  {
   "cell_type": "markdown",
   "metadata": {},
   "source": [
    "# 0或多次  1或多次"
   ]
  },
  {
   "cell_type": "code",
   "execution_count": 46,
   "metadata": {
    "ExecuteTime": {
     "end_time": "2020-03-23T03:59:32.845729Z",
     "start_time": "2020-03-23T03:59:32.842725Z"
    }
   },
   "outputs": [
    {
     "name": "stdout",
     "output_type": "stream",
     "text": [
      "<re.Match object; span=(0, 1), match='a'>\n",
      "<re.Match object; span=(0, 10), match='abbbbbbbbb'>\n",
      "None\n",
      "<re.Match object; span=(0, 9), match='abbbbbbbb'>\n"
     ]
    }
   ],
   "source": [
    "#* 0 or more\n",
    "print(re.search(r'ab*','a'))\n",
    "print(re.search(r'ab*','abbbbbbbbb'))\n",
    "\n",
    "#+ 1 or more\n",
    "print(re.search(r'ab+','a'))\n",
    "print(re.search(r'ab+','abbbbbbbb'))"
   ]
  },
  {
   "cell_type": "markdown",
   "metadata": {},
   "source": [
    "# 可选次数"
   ]
  },
  {
   "cell_type": "code",
   "execution_count": 48,
   "metadata": {
    "ExecuteTime": {
     "end_time": "2020-03-23T04:00:50.728221Z",
     "start_time": "2020-03-23T04:00:50.725219Z"
    }
   },
   "outputs": [
    {
     "name": "stdout",
     "output_type": "stream",
     "text": [
      "None\n",
      "<re.Match object; span=(0, 8), match='abbbbbbb'>\n"
     ]
    }
   ],
   "source": [
    "#用大括号\n",
    "print(re.search(r'ab{2,10}','a'))\n",
    "print(re.search(r'ab{2,10}','abbbbbbb'))"
   ]
  },
  {
   "cell_type": "markdown",
   "metadata": {},
   "source": [
    "# group 组"
   ]
  },
  {
   "cell_type": "code",
   "execution_count": 60,
   "metadata": {
    "ExecuteTime": {
     "end_time": "2020-03-23T04:06:16.128214Z",
     "start_time": "2020-03-23T04:06:16.125211Z"
    }
   },
   "outputs": [
    {
     "name": "stdout",
     "output_type": "stream",
     "text": [
      "ID:098721,Date:Feb/12/2019\n",
      "098721\n",
      "Feb/12/2019\n",
      "098721\n"
     ]
    }
   ],
   "source": [
    "match=re.search(r'ID:(\\d+),Date:(.+)','ID:098721,Date:Feb/12/2019')\n",
    "print(match.group())\n",
    "print(match.group(1))\n",
    "print(match.group(2))\n",
    "\n",
    "match2=re.search(r'ID:(?P<id>\\d+),Date:(?P<date>.+)','ID:098721,Date:Feb/12/2019')\n",
    "print(match2.group('id'))"
   ]
  },
  {
   "cell_type": "markdown",
   "metadata": {},
   "source": [
    "# 寻找所有匹配"
   ]
  },
  {
   "cell_type": "code",
   "execution_count": 66,
   "metadata": {
    "ExecuteTime": {
     "end_time": "2020-03-23T04:10:18.956723Z",
     "start_time": "2020-03-23T04:10:18.954721Z"
    }
   },
   "outputs": [
    {
     "name": "stdout",
     "output_type": "stream",
     "text": [
      "['run', 'ran']\n",
      "['run', 'ran']\n",
      "['u', 'a']\n"
     ]
    }
   ],
   "source": [
    "# [] find all\n",
    "print(re.findall(r'r[ua]n','run ran rpn'))\n",
    "\n",
    "# (\\) or\n",
    "print(re.findall(r'(run|ran)','run ran ren'))\n",
    "print(re.findall(r'r(u|a)n','run ran rpn'))"
   ]
  },
  {
   "cell_type": "markdown",
   "metadata": {},
   "source": [
    "# 替换"
   ]
  },
  {
   "cell_type": "code",
   "execution_count": 67,
   "metadata": {
    "ExecuteTime": {
     "end_time": "2020-03-23T04:10:58.790837Z",
     "start_time": "2020-03-23T04:10:58.788835Z"
    }
   },
   "outputs": [
    {
     "name": "stdout",
     "output_type": "stream",
     "text": [
      "dogs catches to me\n"
     ]
    }
   ],
   "source": [
    "# sub\n",
    "print(re.sub(r'r[au]n','catches','dogs run to me'))"
   ]
  },
  {
   "cell_type": "markdown",
   "metadata": {},
   "source": [
    "# 分裂"
   ]
  },
  {
   "cell_type": "code",
   "execution_count": 76,
   "metadata": {
    "ExecuteTime": {
     "end_time": "2020-03-23T04:13:06.952171Z",
     "start_time": "2020-03-23T04:13:06.949169Z"
    }
   },
   "outputs": [
    {
     "name": "stdout",
     "output_type": "stream",
     "text": [
      "['a', 'b', 'c', 'd', 'e']\n"
     ]
    }
   ],
   "source": [
    "# split\n",
    "print(re.split(r'[,:.]','a:b,c.d:e'))"
   ]
  },
  {
   "cell_type": "markdown",
   "metadata": {},
   "source": [
    "# compile"
   ]
  },
  {
   "cell_type": "code",
   "execution_count": 1,
   "metadata": {
    "ExecuteTime": {
     "end_time": "2020-03-23T09:15:37.901989Z",
     "start_time": "2020-03-23T09:15:37.840934Z"
    }
   },
   "outputs": [
    {
     "ename": "NameError",
     "evalue": "name 're' is not defined",
     "output_type": "error",
     "traceback": [
      "\u001b[1;31m---------------------------------------------------------------------------\u001b[0m",
      "\u001b[1;31mNameError\u001b[0m                                 Traceback (most recent call last)",
      "\u001b[1;32m<ipython-input-1-02ddc6d932a0>\u001b[0m in \u001b[0;36m<module>\u001b[1;34m()\u001b[0m\n\u001b[1;32m----> 1\u001b[1;33m \u001b[0mcompiled_re\u001b[0m\u001b[1;33m=\u001b[0m\u001b[0mre\u001b[0m\u001b[1;33m.\u001b[0m\u001b[0mcompile\u001b[0m\u001b[1;33m(\u001b[0m\u001b[1;34mr'r[ua]n'\u001b[0m\u001b[1;33m)\u001b[0m\u001b[1;33m\u001b[0m\u001b[0m\n\u001b[0m\u001b[0;32m      2\u001b[0m \u001b[0mprint\u001b[0m\u001b[1;33m(\u001b[0m\u001b[0mcompiled_re\u001b[0m\u001b[1;33m.\u001b[0m\u001b[0msearch\u001b[0m\u001b[1;33m(\u001b[0m\u001b[1;34m'dogs ran to cat'\u001b[0m\u001b[1;33m)\u001b[0m\u001b[1;33m)\u001b[0m\u001b[1;33m\u001b[0m\u001b[0m\n",
      "\u001b[1;31mNameError\u001b[0m: name 're' is not defined"
     ]
    }
   ],
   "source": [
    "compiled_re=re.compile(r'r[ua]n')\n",
    "print(compiled_re.search('dogs ran to cat'))"
   ]
  },
  {
   "cell_type": "markdown",
   "metadata": {},
   "source": [
    "# .*? 表示只匹配一次，非贪婪"
   ]
  },
  {
   "cell_type": "code",
   "execution_count": 3,
   "metadata": {
    "ExecuteTime": {
     "end_time": "2020-03-24T13:43:53.029140Z",
     "start_time": "2020-03-24T13:43:53.027731Z"
    }
   },
   "outputs": [
    {
     "name": "stdout",
     "output_type": "stream",
     "text": [
      "<re.Match object; span=(0, 9), match='/iwjalhf/'>\n"
     ]
    }
   ],
   "source": [
    "print(re.search(r'^/.+?/$','/iwjalhf/'))"
   ]
  },
  {
   "cell_type": "code",
   "execution_count": null,
   "metadata": {},
   "outputs": [],
   "source": []
  }
 ],
 "metadata": {
  "kernelspec": {
   "display_name": "Python 3",
   "language": "python",
   "name": "python3"
  },
  "language_info": {
   "codemirror_mode": {
    "name": "ipython",
    "version": 3
   },
   "file_extension": ".py",
   "mimetype": "text/x-python",
   "name": "python",
   "nbconvert_exporter": "python",
   "pygments_lexer": "ipython3",
   "version": "3.7.0"
  },
  "toc": {
   "base_numbering": 1,
   "nav_menu": {},
   "number_sections": true,
   "sideBar": true,
   "skip_h1_title": false,
   "title_cell": "Table of Contents",
   "title_sidebar": "Contents",
   "toc_cell": false,
   "toc_position": {},
   "toc_section_display": true,
   "toc_window_display": false
  },
  "varInspector": {
   "cols": {
    "lenName": 16,
    "lenType": 16,
    "lenVar": 40
   },
   "kernels_config": {
    "python": {
     "delete_cmd_postfix": "",
     "delete_cmd_prefix": "del ",
     "library": "var_list.py",
     "varRefreshCmd": "print(var_dic_list())"
    },
    "r": {
     "delete_cmd_postfix": ") ",
     "delete_cmd_prefix": "rm(",
     "library": "var_list.r",
     "varRefreshCmd": "cat(var_dic_list()) "
    }
   },
   "types_to_exclude": [
    "module",
    "function",
    "builtin_function_or_method",
    "instance",
    "_Feature"
   ],
   "window_display": false
  }
 },
 "nbformat": 4,
 "nbformat_minor": 2
}
