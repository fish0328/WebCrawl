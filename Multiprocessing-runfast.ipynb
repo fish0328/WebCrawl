{
 "cells": [
  {
   "cell_type": "markdown",
   "metadata": {},
   "source": [
    "# 一定要放在__name__=='__main__'里面"
   ]
  },
  {
   "cell_type": "code",
   "execution_count": null,
   "metadata": {},
   "outputs": [],
   "source": [
    "import multiprocessing as mp\n",
    "import time\n",
    "from urllib.request import urlopen, urljoin\n",
    "from bs4 import BeautifulSoup\n",
    "import re\n",
    "\n",
    "base_url = 'https://morvanzhou.github.io/'\n",
    "\n",
    "def crawl(url):\n",
    "    response = urlopen(url)\n",
    "    time.sleep(0.1)  # 停顿一下\n",
    "    return response.read().decode()\n",
    "\n",
    "\n",
    "def parse(html):\n",
    "    soup = BeautifulSoup(html, 'lxml')\n",
    "    urls = soup.find_all('a', {'href': re.compile('^/.+?/$')})\n",
    "    title = soup.find('h1').get_text().strip()  # 去掉开头结尾的空格。空行\n",
    "    page_urls = set([urljoin(base_url, url['href']) for url in urls])\n",
    "    url = soup.find('meta', {'property': 'og:url'})['content']\n",
    "\n",
    "    return title, page_urls, url\n",
    "\n",
    "\n",
    "#！！！放在main里面！！！！\n",
    "if __name__=='__main__':\n",
    "\n",
    "    unseen = set([base_url])\n",
    "    seen = set()\n",
    "\n",
    "    pool = mp.Pool()\n",
    "    count, t1 = 1, time.time()\n",
    "\n",
    "    while len(unseen)!=0:\n",
    "        if len(seen)>20:\n",
    "            break\n",
    "\n",
    "        print('\\nDistributed Crawling...')\n",
    "        crawl_jobs=[pool.apply_async(crawl,args=(url,)) for url in unseen]\n",
    "        htmls=[j.get() for j in crawl_jobs]\n",
    "\n",
    "        print('\\nDistributed Parsing...')\n",
    "        parse_jobs=[pool.apply_async(parse,args=(html,)) for html in htmls]\n",
    "        results=[j.get()for j in parse_jobs]\n",
    "\n",
    "        print('\\nAnalysing...')\n",
    "        seen.update(unseen)\n",
    "        unseen.clear()\n",
    "\n",
    "        for title , page_urls , url in results:\n",
    "            print(count, title ,url)\n",
    "            count+=1\n",
    "            unseen.update(page_urls-seen)\n",
    "\n",
    "\n",
    "    print('total time: ',time.time()-t1)\n",
    "\n",
    "    "
   ]
  }
 ],
 "metadata": {
  "kernelspec": {
   "display_name": "Python 3",
   "language": "python",
   "name": "python3"
  },
  "language_info": {
   "codemirror_mode": {
    "name": "ipython",
    "version": 3
   },
   "file_extension": ".py",
   "mimetype": "text/x-python",
   "name": "python",
   "nbconvert_exporter": "python",
   "pygments_lexer": "ipython3",
   "version": "3.7.0"
  },
  "toc": {
   "base_numbering": 1,
   "nav_menu": {},
   "number_sections": true,
   "sideBar": true,
   "skip_h1_title": false,
   "title_cell": "Table of Contents",
   "title_sidebar": "Contents",
   "toc_cell": false,
   "toc_position": {},
   "toc_section_display": true,
   "toc_window_display": false
  },
  "varInspector": {
   "cols": {
    "lenName": 16,
    "lenType": 16,
    "lenVar": 40
   },
   "kernels_config": {
    "python": {
     "delete_cmd_postfix": "",
     "delete_cmd_prefix": "del ",
     "library": "var_list.py",
     "varRefreshCmd": "print(var_dic_list())"
    },
    "r": {
     "delete_cmd_postfix": ") ",
     "delete_cmd_prefix": "rm(",
     "library": "var_list.r",
     "varRefreshCmd": "cat(var_dic_list()) "
    }
   },
   "types_to_exclude": [
    "module",
    "function",
    "builtin_function_or_method",
    "instance",
    "_Feature"
   ],
   "window_display": false
  }
 },
 "nbformat": 4,
 "nbformat_minor": 2
}
