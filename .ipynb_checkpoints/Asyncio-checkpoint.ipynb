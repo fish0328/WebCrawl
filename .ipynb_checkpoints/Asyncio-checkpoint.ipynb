{
 "cells": [
  {
   "cell_type": "markdown",
   "metadata": {},
   "source": [
    "# 异步加载 Asyncio"
   ]
  },
  {
   "cell_type": "code",
   "execution_count": 1,
   "metadata": {
    "ExecuteTime": {
     "end_time": "2020-03-24T15:04:43.489737Z",
     "start_time": "2020-03-24T15:04:40.485287Z"
    }
   },
   "outputs": [
    {
     "name": "stdout",
     "output_type": "stream",
     "text": [
      "start 1\n",
      "job  1 takes  1   s\n",
      "start 2\n",
      "job  2 takes  2   s\n",
      "normal:  3.000446081161499\n"
     ]
    }
   ],
   "source": [
    "import time\n",
    "\n",
    "def job(t):\n",
    "    print('start',t)\n",
    "    time.sleep(t)\n",
    "    c\n",
    "\n",
    "def main():\n",
    "    [job(t) for t in range(1,3)]\n",
    "    \n",
    "t1=time.time()\n",
    "main()\n",
    "print('normal: ',time.time()-t1)"
   ]
  },
  {
   "cell_type": "code",
   "execution_count": 3,
   "metadata": {
    "ExecuteTime": {
     "end_time": "2020-03-24T15:15:20.551721Z",
     "start_time": "2020-03-24T15:15:18.544125Z"
    }
   },
   "outputs": [
    {
     "name": "stdout",
     "output_type": "stream",
     "text": [
      "start 1\n",
      "start 2\n",
      "job  1 takes  1   s\n",
      "job  2 takes  2   s\n",
      "asyncio time:  2.001598596572876\n"
     ]
    }
   ],
   "source": [
    "import asyncio\n",
    "import time\n",
    "import nest_asyncio\n",
    "\n",
    "nest_asyncio.apply()\n",
    "\n",
    "async def job(t):\n",
    "    print('start',t)\n",
    "    await asyncio.sleep(t)\n",
    "    print('job ',t,'takes ',t,'  s')\n",
    "    \n",
    "async def main(loop):\n",
    "    tasks=[loop.create_task(job(t)) for t in range(1,3)]#only create not run\n",
    "    await asyncio.wait(tasks)#wait for all done\n",
    "    \n",
    "t1=time.time()\n",
    "loop=asyncio.get_event_loop()\n",
    "loop.run_until_complete(main(loop))\n",
    "#loop.close() \n",
    "\n",
    "print('asyncio time: ',time.time()-t1)"
   ]
  },
  {
   "cell_type": "markdown",
   "metadata": {},
   "source": [
    "# normal or asyncio in crawling "
   ]
  },
  {
   "cell_type": "code",
   "execution_count": 4,
   "metadata": {
    "ExecuteTime": {
     "end_time": "2020-03-24T15:24:04.901806Z",
     "start_time": "2020-03-24T15:24:03.146244Z"
    }
   },
   "outputs": [
    {
     "name": "stdout",
     "output_type": "stream",
     "text": [
      "https://morvanzhou.github.io/\n",
      "https://morvanzhou.github.io/\n",
      "normal way crawling:  1.6484651565551758\n"
     ]
    }
   ],
   "source": [
    "#normal\n",
    "import requests\n",
    "\n",
    "URL='https://morvanzhou.github.io/'\n",
    "\n",
    "def normal():\n",
    "    for i in range(2):\n",
    "        r=requests.get(URL)\n",
    "        url=r.url\n",
    "        print(url)\n",
    "\n",
    "t1=time.time()\n",
    "normal()\n",
    "print('normal way crawling: ',time.time()-t1)"
   ]
  },
  {
   "cell_type": "code",
   "execution_count": 10,
   "metadata": {
    "ExecuteTime": {
     "end_time": "2020-03-24T15:49:04.985308Z",
     "start_time": "2020-03-24T15:49:04.423354Z"
    }
   },
   "outputs": [
    {
     "name": "stdout",
     "output_type": "stream",
     "text": [
      "['https://morvanzhou.github.io/', 'https://morvanzhou.github.io/']\n",
      "async total time:  0.5569491386413574\n"
     ]
    }
   ],
   "source": [
    "import aiohttp\n",
    "import nest_asyncio\n",
    "\n",
    "nest_asyncio.apply()\n",
    "\n",
    "async def job(session):\n",
    "    response=await session.get(URL)\n",
    "    return str(response.url)\n",
    "\n",
    "async def main(loop):\n",
    "    async with aiohttp.ClientSession() as session:\n",
    "        tasks=[loop.create_task(job(session)) for _ in range(2)]\n",
    "        finished,unfinished=await asyncio.wait(tasks)\n",
    "        all_results=[r.result() for r in finished]\n",
    "        \n",
    "        print(all_results)\n",
    "\n",
    "t1=time.time()\n",
    "loop=asyncio.get_event_loop()\n",
    "loop.run_until_complete(main(loop))\n",
    "\n",
    "print('async total time: ',time.time()-t1)"
   ]
  },
  {
   "cell_type": "markdown",
   "metadata": {},
   "source": [
    "# async method (with multiprocessing)"
   ]
  },
  {
   "cell_type": "code",
   "execution_count": null,
   "metadata": {
    "ExecuteTime": {
     "start_time": "2020-03-25T01:44:46.309Z"
    }
   },
   "outputs": [
    {
     "name": "stdout",
     "output_type": "stream",
     "text": [
      "\n",
      "Async Crawling...\n",
      "\n",
      "Distributed Parsing...\n"
     ]
    }
   ],
   "source": [
    "import aiohttp\n",
    "import asyncio\n",
    "import time\n",
    "from bs4 import BeautifulSoup\n",
    "from urllib.request import urljoin\n",
    "import re\n",
    "import multiprocessing as mp\n",
    "import nest_asyncio\n",
    "\n",
    "nest_asyncio.apply()\n",
    "\n",
    "base_url = 'https://morvanzhou.github.io/'\n",
    "\n",
    "seen = set()\n",
    "unseen = set([base_url])\n",
    "\n",
    "\n",
    "def parse(html):\n",
    "    soup = BeautifulSoup(html, 'lxml')\n",
    "    urls = soup.find_all('a', {'href': re.compile('^/.+?/$')})\n",
    "    title = soup.find('h1').get_text().strip()\n",
    "    page_urls = set([urljoin(base_url, url['href']) for url in urls])\n",
    "    url = soup.find('meta', {'property': 'og:url'})['content']\n",
    "    return title, page_urls, url\n",
    "\n",
    "\n",
    "async def crawl(url, session):\n",
    "    r = await session.get(url)\n",
    "    html = await r.text()\n",
    "    await asyncio.sleep(0.1)\n",
    "    return html\n",
    "\n",
    "\n",
    "async def main(loop):\n",
    "    pool = mp.Pool(8)\n",
    "    async with aiohttp.ClientSession() as session:\n",
    "        count = 1\n",
    "        while len(unseen) != 0:\n",
    "            if len(seen) > 20:\n",
    "                break\n",
    "\n",
    "            print('\\nAsync Crawling...')\n",
    "            tasks = [loop.create_task(crawl(url, session)) for url in unseen]\n",
    "            finished, unfinished = await asyncio.wait(tasks)\n",
    "            htmls = [f.result() for f in finished]\n",
    "\n",
    "            print('\\nDistributed Parsing...')\n",
    "            parse_jobs = [pool.apply_async(parse, args=(html,)) for html in htmls]\n",
    "            results = [j.get() for j in parse_jobs]\n",
    "\n",
    "            print('\\nAnalysing...')\n",
    "            seen.update(unseen)\n",
    "            unseen.clear()\n",
    "\n",
    "            for title, page_urls, url in results:\n",
    "                print(count, title, url)\n",
    "                unseen.update(page_urls - seen)\n",
    "                count += 1\n",
    "\n",
    "if __name__=='__main__':\n",
    "    t1 = time.time()\n",
    "    loop = asyncio.get_event_loop()\n",
    "    loop.run_until_complete(main(loop))\n",
    "    loop.close()\n",
    "    print('total time: ', time.time() - t1)"
   ]
  }
 ],
 "metadata": {
  "kernelspec": {
   "display_name": "Python 3",
   "language": "python",
   "name": "python3"
  },
  "language_info": {
   "codemirror_mode": {
    "name": "ipython",
    "version": 3
   },
   "file_extension": ".py",
   "mimetype": "text/x-python",
   "name": "python",
   "nbconvert_exporter": "python",
   "pygments_lexer": "ipython3",
   "version": "3.7.0"
  },
  "toc": {
   "base_numbering": 1,
   "nav_menu": {},
   "number_sections": true,
   "sideBar": true,
   "skip_h1_title": false,
   "title_cell": "Table of Contents",
   "title_sidebar": "Contents",
   "toc_cell": false,
   "toc_position": {},
   "toc_section_display": true,
   "toc_window_display": false
  },
  "varInspector": {
   "cols": {
    "lenName": 16,
    "lenType": 16,
    "lenVar": 40
   },
   "kernels_config": {
    "python": {
     "delete_cmd_postfix": "",
     "delete_cmd_prefix": "del ",
     "library": "var_list.py",
     "varRefreshCmd": "print(var_dic_list())"
    },
    "r": {
     "delete_cmd_postfix": ") ",
     "delete_cmd_prefix": "rm(",
     "library": "var_list.r",
     "varRefreshCmd": "cat(var_dic_list()) "
    }
   },
   "types_to_exclude": [
    "module",
    "function",
    "builtin_function_or_method",
    "instance",
    "_Feature"
   ],
   "window_display": false
  }
 },
 "nbformat": 4,
 "nbformat_minor": 2
}
