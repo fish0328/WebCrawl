{
 "cells": [
  {
   "cell_type": "code",
   "execution_count": 2,
   "metadata": {
    "ExecuteTime": {
     "end_time": "2020-03-23T06:25:30.949804Z",
     "start_time": "2020-03-23T06:25:30.058865Z"
    }
   },
   "outputs": [
    {
     "name": "stdout",
     "output_type": "stream",
     "text": [
      "<!DOCTYPE html>\n",
      "<html lang=\"cn\">\n",
      "<head>\n",
      "\t<meta charset=\"UTF-8\">\n",
      "\t<title>Scraping tutorial 1 | 莫烦Python</title>\n",
      "\t<link rel=\"icon\" href=\"https://morvanzhou.github.io/static/img/description/tab_icon.png\">\n",
      "</head>\n",
      "<body>\n",
      "\t<h1>爬虫测试1</h1>\n",
      "\t<p>\n",
      "\t\t这是一个在 <a href=\"https://morvanzhou.github.io/\">莫烦Python</a>\n",
      "\t\t<a href=\"https://morvanzhou.github.io/tutorials/data-manipulation/scraping/\">爬虫教程</a> 中的简单测试.\n",
      "\t</p>\n",
      "\n",
      "</body>\n",
      "</html>\n"
     ]
    }
   ],
   "source": [
    "from  urllib.request import urlopen\n",
    "\n",
    "html=urlopen('https://morvanzhou.github.io/static/scraping/basic-structure.html').read().decode('utf-8')\n",
    "print(html)"
   ]
  },
  {
   "cell_type": "code",
   "execution_count": 39,
   "metadata": {
    "ExecuteTime": {
     "end_time": "2020-03-23T07:07:39.221376Z",
     "start_time": "2020-03-23T07:07:39.219374Z"
    }
   },
   "outputs": [
    {
     "name": "stdout",
     "output_type": "stream",
     "text": [
      "['Scraping tutorial 1 | 莫烦Python']\n"
     ]
    }
   ],
   "source": [
    "import re\n",
    "res=re.findall(r'<title>(.+?)</title>',html)\n",
    "print(res)"
   ]
  },
  {
   "cell_type": "code",
   "execution_count": 40,
   "metadata": {
    "ExecuteTime": {
     "end_time": "2020-03-23T07:07:42.259384Z",
     "start_time": "2020-03-23T07:07:42.256381Z"
    }
   },
   "outputs": [
    {
     "name": "stdout",
     "output_type": "stream",
     "text": [
      "\n",
      "\t\t这是一个在 <a href=\"https://morvanzhou.github.io/\">莫烦Python</a>\n",
      "\t\t<a href=\"https://morvanzhou.github.io/tutorials/data-manipulation/scraping/\">爬虫教程</a> 中的简单测试.\n",
      "\t\n"
     ]
    }
   ],
   "source": [
    "res=re.findall(r\"<p>(.+?)</p>\",html,flags=re.DOTALL)\n",
    "# re.DOTALL if multi line\n",
    "print(res[0])"
   ]
  },
  {
   "cell_type": "code",
   "execution_count": 36,
   "metadata": {
    "ExecuteTime": {
     "end_time": "2020-03-23T07:07:14.048952Z",
     "start_time": "2020-03-23T07:07:14.046924Z"
    }
   },
   "outputs": [
    {
     "name": "stdout",
     "output_type": "stream",
     "text": [
      "['https://morvanzhou.github.io/static/img/description/tab_icon.png', 'https://morvanzhou.github.io/', 'https://morvanzhou.github.io/tutorials/data-manipulation/scraping/']\n"
     ]
    }
   ],
   "source": [
    "res = re.findall(r'href=\"(.*?)\"', html)\n",
    "print( res)"
   ]
  },
  {
   "cell_type": "markdown",
   "metadata": {},
   "source": [
    "# beautifulsoup"
   ]
  },
  {
   "cell_type": "code",
   "execution_count": 7,
   "metadata": {
    "ExecuteTime": {
     "end_time": "2020-03-24T09:14:17.492515Z",
     "start_time": "2020-03-24T09:14:17.001714Z"
    }
   },
   "outputs": [
    {
     "name": "stdout",
     "output_type": "stream",
     "text": [
      "<!DOCTYPE html>\n",
      "<html lang=\"cn\">\n",
      "<head>\n",
      "<meta charset=\"utf-8\"/>\n",
      "<title>Scraping tutorial 1 | 莫烦Python</title>\n",
      "<link href=\"https://morvanzhou.github.io/static/img/description/tab_icon.png\" rel=\"icon\"/>\n",
      "</head>\n",
      "<body>\n",
      "<h1>爬虫测试1</h1>\n",
      "<p>\n",
      "\t\t这是一个在 <a href=\"https://morvanzhou.github.io/\">莫烦Python</a>\n",
      "<a href=\"https://morvanzhou.github.io/tutorials/data-manipulation/scraping/\">爬虫教程</a> 中的简单测试.\n",
      "\t</p>\n",
      "</body>\n",
      "</html>\n",
      "\n",
      "\n",
      " <p>\n",
      "\t\t这是一个在 <a href=\"https://morvanzhou.github.io/\">莫烦Python</a>\n",
      "<a href=\"https://morvanzhou.github.io/tutorials/data-manipulation/scraping/\">爬虫教程</a> 中的简单测试.\n",
      "\t</p>\n"
     ]
    }
   ],
   "source": [
    "from bs4 import BeautifulSoup\n",
    "from urllib.request import urlopen\n",
    "\n",
    "html=urlopen(\"https://morvanzhou.github.io/static/scraping/basic-structure.html\").read().decode('utf-8')\n",
    "#print(html)\n",
    "\n",
    "\n",
    "soup=BeautifulSoup(html,features='lxml')\n",
    "print(soup)\n",
    "print('\\n\\n',soup.p)"
   ]
  },
  {
   "cell_type": "code",
   "execution_count": 49,
   "metadata": {
    "ExecuteTime": {
     "end_time": "2020-03-23T08:26:49.069370Z",
     "start_time": "2020-03-23T08:26:49.066367Z"
    }
   },
   "outputs": [
    {
     "name": "stdout",
     "output_type": "stream",
     "text": [
      "[<a href=\"https://morvanzhou.github.io/\">莫烦Python</a>, <a href=\"https://morvanzhou.github.io/tutorials/data-manipulation/scraping/\">爬虫教程</a>]\n",
      "https://morvanzhou.github.io/\n",
      "https://morvanzhou.github.io/tutorials/data-manipulation/scraping/\n"
     ]
    }
   ],
   "source": [
    "all_href=soup.find_all('a')\n",
    "print(all_href)\n",
    "for i in all_href:\n",
    "    print(i['href'])"
   ]
  },
  {
   "cell_type": "markdown",
   "metadata": {},
   "source": [
    "\n",
    "## beautiful 解析 CSS"
   ]
  },
  {
   "cell_type": "code",
   "execution_count": 56,
   "metadata": {
    "ExecuteTime": {
     "end_time": "2020-03-23T08:44:56.360453Z",
     "start_time": "2020-03-23T08:44:55.942517Z"
    }
   },
   "outputs": [
    {
     "name": "stdout",
     "output_type": "stream",
     "text": [
      "一月\n",
      "二月\n",
      "三月\n",
      "四月\n",
      "五月\n"
     ]
    }
   ],
   "source": [
    "from bs4 import BeautifulSoup\n",
    "from urllib.request import urlopen\n",
    "\n",
    "html=urlopen(\"https://morvanzhou.github.io/static/scraping/list.html\").read().decode('utf-8')\n",
    "\n",
    "soup=BeautifulSoup(html,'lxml')\n",
    "month=soup.find_all('li',{'class':'month'})\n",
    "for m in month :\n",
    "    print(m.get_text())"
   ]
  },
  {
   "cell_type": "code",
   "execution_count": 68,
   "metadata": {
    "ExecuteTime": {
     "end_time": "2020-03-23T08:56:21.256545Z",
     "start_time": "2020-03-23T08:56:21.252541Z"
    }
   },
   "outputs": [
    {
     "name": "stdout",
     "output_type": "stream",
     "text": [
      "一月一号\n",
      "一月二号\n",
      "一月三号\n"
     ]
    }
   ],
   "source": [
    "jan=soup.find('ul',{'class':'jan'})#注意这里用find，只返回一个不然后报错\n",
    "d_jan=jan.find_all('li')\n",
    "for i in d_jan:\n",
    "    print(i.get_text())"
   ]
  },
  {
   "cell_type": "markdown",
   "metadata": {},
   "source": [
    "## beautiful + RegEx"
   ]
  },
  {
   "cell_type": "code",
   "execution_count": 69,
   "metadata": {
    "ExecuteTime": {
     "end_time": "2020-03-23T09:12:13.352836Z",
     "start_time": "2020-03-23T09:12:12.705155Z"
    }
   },
   "outputs": [
    {
     "name": "stdout",
     "output_type": "stream",
     "text": [
      "<!DOCTYPE html>\n",
      "<html lang=\"cn\">\n",
      "<head>\n",
      "\t<meta charset=\"UTF-8\">\n",
      "\t<title>爬虫练习 表格 table | 莫烦 Python</title>\n",
      "\n",
      "\t<style>\n",
      "\timg {\n",
      "\t\twidth: 250px;\n",
      "\t}\n",
      "\ttable{\n",
      "\t\twidth:50%;\n",
      "\t}\n",
      "\ttd{\n",
      "\t\tmargin:10px;\n",
      "\t\tpadding:15px;\n",
      "\t}\n",
      "\t</style>\n",
      "</head>\n",
      "<body>\n",
      "\n",
      "<h1>表格 爬虫练习</h1>\n",
      "\n",
      "<p>这是一个在 <a href=\"https://morvanzhou.github.io/\" >莫烦 Python</a> 的 <a href=\"https://morvanzhou.github.io/tutorials/data-manipulation/scraping/\" >爬虫教程</a>\n",
      "\t里无敌简单的网页, 所有的 code 让你一目了然, 清晰无比.</p>\n",
      "\n",
      "<br>\n",
      "<table id=\"course-list\">\n",
      "\t<tr>\n",
      "\t\t<th>\n",
      "\t\t\t分类\n",
      "\t\t</th><th>\n",
      "\t\t\t名字\n",
      "\t\t</th><th>\n",
      "\t\t\t时长\n",
      "\t\t</th><th>\n",
      "\t\t\t预览\n",
      "\t\t</th>\n",
      "\t</tr>\n",
      "\n",
      "\t<tr id=\"course1\" class=\"ml\">\n",
      "\t\t<td>\n",
      "\t\t\t机器学习\n",
      "\t\t</td><td>\n",
      "\t\t\t<a href=\"https://morvanzhou.github.io/tutorials/machine-learning/tensorflow/\">\n",
      "\t\t\t\tTensorflow 神经网络</a>\n",
      "\t\t</td><td>\n",
      "\t\t\t2:00\n",
      "\t\t</td><td>\n",
      "\t\t\t<img src=\"https://morvanzhou.github.io/static/img/course_cover/tf.jpg\">\n",
      "\t\t</td>\n",
      "\t</tr>\n",
      "\n",
      "\t<tr id=\"course2\" class=\"ml\">\n",
      "\t\t<td>\n",
      "\t\t\t机器学习\n",
      "\t\t</td><td>\n",
      "\t\t\t<a href=\"https://morvanzhou.github.io/tutorials/machine-learning/reinforcement-learning/\">\n",
      "\t\t\t\t强化学习</a>\n",
      "\t\t</td><td>\n",
      "\t\t\t5:00\n",
      "\t\t</td><td>\n",
      "\t\t\t<img src=\"https://morvanzhou.github.io/static/img/course_cover/rl.jpg\">\n",
      "\t\t</td>\n",
      "\t</tr>\n",
      "\n",
      "\t<tr id=\"course3\" class=\"data\">\n",
      "\t\t<td>\n",
      "\t\t\t数据处理\n",
      "\t\t</td><td>\n",
      "\t\t\t<a href=\"https://morvanzhou.github.io/tutorials/data-manipulation/scraping/\">\n",
      "\t\t\t\t爬虫</a>\n",
      "\t\t</td><td>\n",
      "\t\t\t3:00\n",
      "\t\t</td><td>\n",
      "\t\t\t<img src=\"https://morvanzhou.github.io/static/img/course_cover/scraping.jpg\">\n",
      "\t\t</td>\n",
      "\t</tr>\n",
      "\n",
      "</table>\n",
      "\n",
      "</body>\n",
      "</html>\n"
     ]
    }
   ],
   "source": [
    "from bs4 import BeautifulSoup\n",
    "from urllib.request import urlopen\n",
    "import re\n",
    "\n",
    "html=urlopen(\"https://morvanzhou.github.io/static/scraping/table.html\").read().decode('utf-8')\n",
    "print(html)"
   ]
  },
  {
   "cell_type": "code",
   "execution_count": 73,
   "metadata": {
    "ExecuteTime": {
     "end_time": "2020-03-23T09:18:03.782462Z",
     "start_time": "2020-03-23T09:18:03.778458Z"
    }
   },
   "outputs": [
    {
     "name": "stdout",
     "output_type": "stream",
     "text": [
      "https://morvanzhou.github.io/static/img/course_cover/tf.jpg\n",
      "https://morvanzhou.github.io/static/img/course_cover/rl.jpg\n",
      "https://morvanzhou.github.io/static/img/course_cover/scraping.jpg\n"
     ]
    }
   ],
   "source": [
    "soup=BeautifulSoup(html,'lxml')\n",
    "\n",
    "img_links=soup.find_all('img',{'src':re.compile('.*?\\.jpg')})\n",
    "#加了？表示非贪婪匹配，只匹配条件中第一个，最小匹配\n",
    "\n",
    "for link in img_links:\n",
    "    print(link['src'])"
   ]
  },
  {
   "cell_type": "code",
   "execution_count": 78,
   "metadata": {
    "ExecuteTime": {
     "end_time": "2020-03-23T09:30:02.025500Z",
     "start_time": "2020-03-23T09:30:02.022497Z"
    }
   },
   "outputs": [
    {
     "name": "stdout",
     "output_type": "stream",
     "text": [
      "https://morvanzhou.github.io/\n",
      "https://morvanzhou.github.io/tutorials/data-manipulation/scraping/\n",
      "https://morvanzhou.github.io/tutorials/machine-learning/tensorflow/\n",
      "https://morvanzhou.github.io/tutorials/machine-learning/reinforcement-learning/\n",
      "https://morvanzhou.github.io/tutorials/data-manipulation/scraping/\n"
     ]
    }
   ],
   "source": [
    "courses=soup.find_all('a',{'href':re.compile('https://morvanzhou.*')})\n",
    "for c in courses:\n",
    "    print(c['href'])"
   ]
  },
  {
   "cell_type": "markdown",
   "metadata": {},
   "source": [
    "## baidu"
   ]
  },
  {
   "cell_type": "code",
   "execution_count": 81,
   "metadata": {
    "ExecuteTime": {
     "end_time": "2020-03-23T09:51:16.832045Z",
     "start_time": "2020-03-23T09:51:16.453791Z"
    }
   },
   "outputs": [
    {
     "name": "stdout",
     "output_type": "stream",
     "text": [
      "网络爬虫\n"
     ]
    }
   ],
   "source": [
    "from bs4 import BeautifulSoup\n",
    "from urllib.request import urlopen\n",
    "import re\n",
    "import random\n",
    "\n",
    "base_url='https://baike.baidu.com'\n",
    "his=['/item/%E7%BD%91%E7%BB%9C%E7%88%AC%E8%99%AB/5162711']\n",
    "\n",
    "url=base_url+his[0]\n",
    "html=urlopen(url).read().decode('utf-8')\n",
    "soup=BeautifulSoup(html,'lxml')\n",
    "\n",
    "print(soup.find('h1').get_text())"
   ]
  },
  {
   "cell_type": "code",
   "execution_count": null,
   "metadata": {
    "ExecuteTime": {
     "start_time": "2020-03-23T10:45:18.858Z"
    }
   },
   "outputs": [
    {
     "name": "stdout",
     "output_type": "stream",
     "text": [
      "0 网络爬虫         url:   /item/%E7%BD%91%E7%BB%9C%E7%88%AC%E8%99%AB/5162711\n",
      "1 网络爬虫         url:   /item/%E8%9C%98%E8%9B%9B/8135707\n",
      "2 蚁科         url:   /item/%E8%9A%82%E8%9A%81/9770178\n",
      "3 甲酸         url:   /item/%E7%94%B2%E9%85%B8/1401707\n",
      "4 临界温度         url:   /item/%E4%B8%B4%E7%95%8C%E6%B8%A9%E5%BA%A6/22831\n",
      "5 压强         url:   /item/%E5%8E%8B%E5%BC%BA/1485336\n",
      "6 活塞式抽水机         url:   /item/%E6%B4%BB%E5%A1%9E%E5%BC%8F%E6%8A%BD%E6%B0%B4%E6%9C%BA/1535490\n",
      "7 抽水机         url:   /item/%E6%8A%BD%E6%B0%B4%E6%9C%BA/1535457\n",
      "8 水泵         url:   /item/%E6%B0%B4%E6%B3%B5/4154530\n",
      "9 机械         url:   /item/%E6%9C%BA%E6%A2%B0/68186\n",
      "10 水泵         url:   /item/%E6%B0%B4%E6%B3%B5/4154530\n",
      "11 机械         url:   /item/%E6%9C%BA%E6%A2%B0/68186\n",
      "12 水泵         url:   /item/%E6%B0%B4%E6%B3%B5/4154530\n",
      "13 扬程         url:   /item/%E6%89%AC%E7%A8%8B/143562\n",
      "14 水泵         url:   /item/%E6%B0%B4%E6%B3%B5/4154530\n",
      "15 叶片泵         url:   /item/%E5%8F%B6%E7%89%87%E6%B3%B5/4780158\n",
      "16 水泵         url:   /item/%E6%B0%B4%E6%B3%B5/4154530\n",
      "17 水         url:   /item/%E6%B0%B4/34133\n",
      "18 等离子体         url:   /item/%E7%AD%89%E7%A6%BB%E5%AD%90%E4%BD%93/106920\n",
      "19 导电体         url:   /item/%E5%AF%BC%E7%94%B5%E4%BD%93/4401206\n",
      "20 绝缘体         url:   /item/%E7%BB%9D%E7%BC%98%E4%BD%93/1017293\n",
      "21 电荷         url:   /item/%E7%94%B5%E8%8D%B7/1144574\n",
      "22 静电力         url:   /item/%E7%94%B5%E7%A3%81%E5%8A%9B/2390988\n",
      "23 相互作用力         url:   /item/%E7%9B%B8%E4%BA%92%E4%BD%9C%E7%94%A8%E5%8A%9B/8750748\n",
      "24 基本力         url:   /item/%E5%9F%BA%E6%9C%AC%E5%8A%9B/8840690\n",
      "25 强核力         url:   /item/%E5%BC%BA%E7%9B%B8%E4%BA%92%E4%BD%9C%E7%94%A8%E5%8A%9B/4805768\n",
      "26 短程力         url:   /item/%E7%9F%AD%E7%A8%8B%E5%8A%9B/1009416\n",
      "27 强核力         url:   /item/%E5%BC%BA%E7%9B%B8%E4%BA%92%E4%BD%9C%E7%94%A8%E5%8A%9B/4805768\n",
      "28 π介子         url:   /item/%CF%80%E4%BB%8B%E5%AD%90/4189816\n",
      "29 介子         url:   /item/%E4%BB%8B%E5%AD%90/469911\n",
      "30 基本粒子         url:   /item/%E5%9F%BA%E6%9C%AC%E7%B2%92%E5%AD%90/79521\n",
      "31 轻子         url:   /item/%E8%BD%BB%E5%AD%90/125814\n",
      "32 衰变         url:   /item/%E8%A1%B0%E5%8F%98/483106\n",
      "33 轻子         url:   /item/%E8%BD%BB%E5%AD%90/125814\n",
      "34 衰变         url:   /item/%E8%A1%B0%E5%8F%98/483106\n",
      "35 轻子         url:   /item/%E8%BD%BB%E5%AD%90/125814\n",
      "36 中性粒子         url:   /item/%E4%B8%AD%E6%80%A7%E7%B2%92%E5%AD%90/4195452\n",
      "37 中微子         url:   /item/%E4%B8%AD%E5%BE%AE%E5%AD%90/243111\n",
      "38 意大利         url:   /item/%E6%84%8F%E5%A4%A7%E5%88%A9/148336\n",
      "39 地中海         url:   /item/%E5%9C%B0%E4%B8%AD%E6%B5%B7/11515\n",
      "40 马尔马拉海         url:   /item/%E9%A9%AC%E5%B0%94%E9%A9%AC%E6%8B%89%E6%B5%B7/442924\n",
      "41 克孜勒群岛         url:   /item/%E5%85%8B%E5%AD%9C%E5%8B%92%E7%BE%A4%E5%B2%9B/6784732\n",
      "42 拜占廷帝国         url:   /item/%E6%8B%9C%E5%8D%A0%E5%BA%AD/70649\n",
      "43 狄奥多西一世         url:   /item/%E7%8B%84%E5%A5%A5%E5%A4%9A%E8%A5%BF%E4%B8%80%E4%B8%96/1664721\n",
      "44 基督教         url:   /item/%E5%9F%BA%E7%9D%A3%E6%95%99/222408\n",
      "45 使徒         url:   /item/%E4%BD%BF%E5%BE%92/60437\n",
      "46 耶稣基督         url:   /item/%E8%80%B6%E7%A8%A3%E5%9F%BA%E7%9D%A3/1107299\n",
      "47 新约全书         url:   /item/%E6%96%B0%E7%BA%A6/432750\n",
      "48 上帝         url:   /item/%E4%B8%8A%E5%B8%9D/8166375\n",
      "49 通典         url:   /item/%E9%80%9A%E5%85%B8/10812740\n",
      "50 纪传体         url:   /item/%E7%BA%AA%E4%BC%A0%E4%BD%93/914490\n",
      "51 何乔远         url:   /item/%E4%BD%95%E4%B9%94%E8%BF%9C/3732454\n",
      "52 方志         url:   /item/%E6%96%B9%E5%BF%97/10562\n",
      "53 禹         url:   /item/%E5%A4%8F%E7%A6%B9/5471617\n",
      "54 秦始皇         url:   /item/%E7%A7%A6%E5%A7%8B%E7%9A%87/6164\n",
      "55 秦时明月         url:   /item/%E7%A7%A6%E6%97%B6%E6%98%8E%E6%9C%88/5285257\n",
      "56 倚天屠龙记         url:   /item/%E5%80%9A%E5%A4%A9%E5%B1%A0%E9%BE%99%E8%AE%B0/5683\n",
      "57 蒋家骏         url:   /item/%E8%92%8B%E5%AE%B6%E9%AA%8F/12081\n",
      "58 第十届中美电影节         url:   /item/%E7%AC%AC%E5%8D%81%E5%B1%8A%E4%B8%AD%E7%BE%8E%E7%94%B5%E5%BD%B1%E8%8A%82/15864974\n",
      "59 中国合伙人         url:   /item/%E4%B8%AD%E5%9B%BD%E5%90%88%E4%BC%99%E4%BA%BA/10191907\n",
      "60 佟大为         url:   /item/%E4%BD%9F%E5%A4%A7%E4%B8%BA/282364\n",
      "61 都是天使惹的祸         url:   /item/%E9%83%BD%E6%98%AF%E5%A4%A9%E4%BD%BF%E6%83%B9%E7%9A%84%E7%A5%B8/3404935\n",
      "62 郭涛         url:   /item/%E9%83%AD%E6%B6%9B/5894\n",
      "63 亲密爱人         url:   /item/%E4%BA%B2%E5%AF%86%E7%88%B1%E4%BA%BA/526498\n",
      "64 刘孜         url:   /item/%E5%88%98%E5%AD%9C/70712\n",
      "65 我这一辈子         url:   /item/%E6%88%91%E8%BF%99%E4%B8%80%E8%BE%88%E5%AD%90/775408\n",
      "66 何冰         url:   /item/%E4%BD%95%E5%86%B0/8609\n",
      "67 大宋提刑官         url:   /item/%E5%A4%A7%E5%AE%8B%E6%8F%90%E5%88%91%E5%AE%98/2819138\n"
     ]
    }
   ],
   "source": [
    "#找出href中满足/item/%E7%BD%91%E7%BB%9C%E7%88%AC%E8%99%AB类型的\n",
    "sub_urls=soup.find_all('a',{'target':'_blank','href':re.compile('/item/(%.{2})+/(\\d)+$')})\n",
    "\n",
    "his=['/item/%E7%BD%91%E7%BB%9C%E7%88%AC%E8%99%AB/5162711']\n",
    "\n",
    "for i in range(200):\n",
    "    url=base_url+his[-1]\n",
    "    \n",
    "    html=urlopen(url).read().decode('utf-8')\n",
    "    soup=BeautifulSoup(html,'lxml')\n",
    "    print(i,soup.find('h1').get_text(),'        url:  ',his[-1])\n",
    "    sub_urls=soup.find_all('a',{'target':'_blank','href':re.compile('/item/(%.{2})+/(\\d)+$')})\n",
    "    \n",
    "    if len(sub_urls)!=0:\n",
    "        his.append(random.sample(sub_urls,1)[0]['href'])\n",
    "    \n",
    "    else:\n",
    "        his.pop()#默认删除最后一条\n"
   ]
  },
  {
   "cell_type": "markdown",
   "metadata": {},
   "source": [
    "# requests "
   ]
  },
  {
   "cell_type": "code",
   "execution_count": 3,
   "metadata": {
    "ExecuteTime": {
     "end_time": "2020-03-24T08:04:43.973358Z",
     "start_time": "2020-03-24T08:04:43.706941Z"
    }
   },
   "outputs": [
    {
     "name": "stdout",
     "output_type": "stream",
     "text": [
      "https://wappass.baidu.com/static/captcha/tuxing.html?&ak=c27bbc89afca0463650ac9bde68ebe06&backurl=https%3A%2F%2Fwww.baidu.com%2Fs%3Fwd%3D%25E8%258E%25AB%25E7%2583%25A6Python&logid=8060159739553071862&signature=81734947f5bf5049d6223d0a95f9f119&timestamp=1585037085\n"
     ]
    },
    {
     "data": {
      "text/plain": [
       "True"
      ]
     },
     "execution_count": 3,
     "metadata": {},
     "output_type": "execute_result"
    }
   ],
   "source": [
    "import requests\n",
    "import webbrowser\n",
    "\n",
    "param={'wd':'莫烦Python'}\n",
    "r=requests.get('http://www.baidu.com/s',params=param)\n",
    "print(r.url)\n",
    "webbrowser.open(r.url)"
   ]
  },
  {
   "cell_type": "markdown",
   "metadata": {},
   "source": [
    "## post  上传"
   ]
  },
  {
   "cell_type": "code",
   "execution_count": 6,
   "metadata": {
    "ExecuteTime": {
     "end_time": "2020-03-24T08:11:16.586672Z",
     "start_time": "2020-03-24T08:11:16.019561Z"
    }
   },
   "outputs": [
    {
     "name": "stdout",
     "output_type": "stream",
     "text": [
      "Hello there, aaa bbb!\n"
     ]
    }
   ],
   "source": [
    "data={'firstname':'aaa','lastname':'bbb'}\n",
    "r=requests.post('http://pythonscraping.com/pages/files/processing.php',data=data)\n",
    "print(r.text)"
   ]
  },
  {
   "cell_type": "markdown",
   "metadata": {},
   "source": [
    "## upload image"
   ]
  },
  {
   "cell_type": "code",
   "execution_count": 8,
   "metadata": {
    "ExecuteTime": {
     "end_time": "2020-03-24T08:22:05.523813Z",
     "start_time": "2020-03-24T08:22:03.790988Z"
    }
   },
   "outputs": [
    {
     "name": "stdout",
     "output_type": "stream",
     "text": [
      "uploads/timg.jpg\n",
      "The file timg.jpg has been uploaded.\n"
     ]
    }
   ],
   "source": [
    "file={'uploadFile':open(r'C:\\Users\\a\\Desktop\\Fish\\timg.jpg','rb')}\n",
    "r=requests.post('http://pythonscraping.com/pages/files/processing2.php',files=file)\n",
    "print(r.text)"
   ]
  },
  {
   "cell_type": "markdown",
   "metadata": {},
   "source": [
    "   ## Login  cookies/session 持续登录"
   ]
  },
  {
   "cell_type": "code",
   "execution_count": null,
   "metadata": {
    "ExecuteTime": {
     "end_time": "2020-03-24T08:36:08.306549Z",
     "start_time": "2020-03-24T08:36:04.350052Z"
    }
   },
   "outputs": [],
   "source": [
    "payload={'username':'aaa','password':'password'}\n",
    "r=requests.post('http://pythonscraping.com/pages/cookies/welcome.php',data=payload)\n",
    "print(r.cookies.get_dict())\n",
    "r=requests.get('http://pythonscraping.com/pages/cookies/profile.php',cookies=r.cookies)\n",
    "print(r.text)\n",
    "\n",
    "\n",
    "#another way \n",
    "session=requests.Session()\n",
    "payload={'username':'aaa','password':'password'}\n",
    "r=session.post('http://pythonscraping.com/pages/cookies/welcome.php',data=payload)\n",
    "print(r.cookies.get_dict())\n",
    "r=session.get('http://pythonscraping.com/pages/cookies/profile.php')\n",
    "print(r.text)"
   ]
  },
  {
   "cell_type": "markdown",
   "metadata": {},
   "source": [
    "## 下载文件"
   ]
  },
  {
   "cell_type": "code",
   "execution_count": 25,
   "metadata": {
    "ExecuteTime": {
     "end_time": "2020-03-24T08:51:04.553893Z",
     "start_time": "2020-03-24T08:51:04.549889Z"
    }
   },
   "outputs": [],
   "source": [
    "import os\n",
    "os.makedirs(r'C:\\Users\\a\\Desktop\\img',exist_ok=True)\n",
    "IMG_URL='https://morvanzhou.github.io/static/img/description/learning_step_flowchart.png'"
   ]
  },
  {
   "cell_type": "code",
   "execution_count": 28,
   "metadata": {
    "ExecuteTime": {
     "end_time": "2020-03-24T08:51:36.093510Z",
     "start_time": "2020-03-24T08:51:34.905861Z"
    }
   },
   "outputs": [
    {
     "data": {
      "text/plain": [
       "('C:\\\\Users\\\\a\\\\Desktop\\\\img\\\\img1.jpg',\n",
       " <http.client.HTTPMessage at 0x20fb37fd630>)"
      ]
     },
     "execution_count": 28,
     "metadata": {},
     "output_type": "execute_result"
    }
   ],
   "source": [
    "#method 1\n",
    "from urllib.request import urlretrieve\n",
    "urlretrieve(IMG_URL,r'C:\\Users\\a\\Desktop\\img\\img1.jpg')"
   ]
  },
  {
   "cell_type": "code",
   "execution_count": 30,
   "metadata": {
    "ExecuteTime": {
     "end_time": "2020-03-24T08:53:34.287146Z",
     "start_time": "2020-03-24T08:53:33.273712Z"
    }
   },
   "outputs": [],
   "source": [
    "#method 2\n",
    "#全部下载再保存\n",
    "import requests\n",
    "r=requests.get(IMG_URL)\n",
    "with open(r'C:\\Users\\a\\Desktop\\img\\img2.jpg','wb')as f:\n",
    "    f.write(r.content)"
   ]
  },
  {
   "cell_type": "code",
   "execution_count": 34,
   "metadata": {
    "ExecuteTime": {
     "end_time": "2020-03-24T08:57:47.978057Z",
     "start_time": "2020-03-24T08:57:46.966970Z"
    }
   },
   "outputs": [],
   "source": [
    "#method 3\n",
    "#用stream ，边下载边存，效率更高，适用于大文件\n",
    "#通过chunk的形式\n",
    "\n",
    "r=requests.get(IMG_URL,stream=True)\n",
    "with open(r'C:\\Users\\a\\Desktop\\img\\img4.jpg','wb')as f:\n",
    "    for chunk in r.iter_content(chunk_size=64):\n",
    "        f.write(chunk)"
   ]
  },
  {
   "cell_type": "markdown",
   "metadata": {},
   "source": [
    "## 国家地理下载图片"
   ]
  },
  {
   "cell_type": "code",
   "execution_count": 9,
   "metadata": {
    "ExecuteTime": {
     "end_time": "2020-03-24T09:22:30.121289Z",
     "start_time": "2020-03-24T09:22:09.577494Z"
    },
    "scrolled": true
   },
   "outputs": [
    {
     "name": "stdout",
     "output_type": "stream",
     "text": [
      "Saved  20200323023856815.jpg\n",
      "Saved  20200320013442494.jpg\n",
      "Saved  20200313022516666.jpg\n",
      "Saved  20200313104903928.jpg\n",
      "Saved  20200310052836354.jpg\n",
      "Saved  20200310022744749.jpg\n"
     ]
    }
   ],
   "source": [
    "from bs4 import  BeautifulSoup\n",
    "import requests\n",
    "\n",
    "URL='http://www.ngchina.com.cn/animals/'\n",
    "\n",
    "\n",
    "#找到图片位置\n",
    "html=requests.get(URL).text\n",
    "soup=BeautifulSoup(html,'lxml')\n",
    "img_url=soup.find_all('ul',{'class':'img_list'})\n",
    "\n",
    "#download\n",
    "for ul in img_url:\n",
    "    imgs=ul.find_all('img')\n",
    "    for img in imgs:\n",
    "        url=img['src']\n",
    "        r=requests.get(url,stream=True)\n",
    "        image_name=url.split('/')[-1]#url用/分开，选最后一个\n",
    "        with open(r'C:\\Users\\a\\Desktop\\img\\%s'%image_name,'wb')as f:\n",
    "            for chunk in r.iter_content(chunk_size=128):\n",
    "                f.write(chunk)\n",
    "        print('Saved  %s' % image_name)\n",
    "    "
   ]
  },
  {
   "cell_type": "markdown",
   "metadata": {},
   "source": [
    "# Multiprocessing 多进程"
   ]
  },
  {
   "cell_type": "code",
   "execution_count": 2,
   "metadata": {
    "ExecuteTime": {
     "end_time": "2020-03-24T14:16:24.211589Z",
     "start_time": "2020-03-24T14:16:24.091234Z"
    }
   },
   "outputs": [],
   "source": [
    "import multiprocessing as mp\n",
    "import time\n",
    "from urllib.request import urlopen,urljoin\n",
    "from bs4 import BeautifulSoup\n",
    "import re\n",
    "\n",
    "base_url='https://morvanzhou.github.io/'\n",
    "\n",
    "\n",
    "#不要过度爬取网站，不然崩了\n",
    "if base_url!='https://morvanzhou.github.io/':\n",
    "    restricted_crawl=True\n",
    "    #如果不是内网，则受限爬取\n",
    "else:\n",
    "    restricted_crawl=False\n",
    "    \n",
    "\n",
    "def crawl(url):\n",
    "    response=urlopen(url)\n",
    "    time.sleep(0.1) #停顿一下\n",
    "    return response.read().decode()\n",
    "\n",
    "\n",
    "def parse(html):\n",
    "    soup=BeautifulSoup(html,'lxml')\n",
    "    urls=soup.find_all('a',{'href':re.compile('^/.+?/$')})\n",
    "    title=soup.find('h1').get_text().strip()#去掉开头结尾的空格。空行\n",
    "    page_urls=set([urljoin(base_url,url['href']) for url in urls ])\n",
    "    url=soup.find('meta',{'property':'og:url'})['content']\n",
    "    \n",
    "    return title,page_urls,url"
   ]
  },
  {
   "cell_type": "markdown",
   "metadata": {},
   "source": [
    "## normal way"
   ]
  },
  {
   "cell_type": "code",
   "execution_count": 3,
   "metadata": {
    "ExecuteTime": {
     "end_time": "2020-03-24T14:22:13.499067Z",
     "start_time": "2020-03-24T14:16:25.803900Z"
    }
   },
   "outputs": [
    {
     "name": "stdout",
     "output_type": "stream",
     "text": [
      "\n",
      "Distributed Crawling...\n",
      "\n",
      "Distributed Parsing...\n",
      "\n",
      "Analysing...\n",
      "1 教程 https://morvanzhou.github.io/\n",
      "False\n",
      "\n",
      "Distributed Crawling...\n",
      "\n",
      "Distributed Parsing...\n",
      "\n",
      "Analysing...\n",
      "2 高级爬虫: 让 Selenium 控制你的浏览器帮你爬 https://morvanzhou.github.io/tutorials/data-manipulation/scraping/5-01-selenium/\n",
      "3 机器学习实践 https://morvanzhou.github.io/tutorials/machine-learning/ML-practice/\n",
      "4 计算机视觉 教程系列 https://morvanzhou.github.io/tutorials/machine-learning/computer-vision/\n",
      "5 基础教程系列 https://morvanzhou.github.io/tutorials/python-basic/basic/\n",
      "6 其他教学系列 https://morvanzhou.github.io/tutorials/others/\n",
      "7 为了更优秀 https://morvanzhou.github.io/support/\n",
      "8 Why? https://morvanzhou.github.io/tutorials/data-manipulation/scraping/1-00-why/\n",
      "9 迁移学习 Transfer Learning https://morvanzhou.github.io/tutorials/machine-learning/tensorflow/5-16-transfer-learning/\n",
      "10 网页爬虫教程系列 https://morvanzhou.github.io/tutorials/data-manipulation/scraping/\n",
      "11 Tensorflow 教程系列 https://morvanzhou.github.io/tutorials/machine-learning/tensorflow/\n",
      "12 Pytorch 教程系列 https://morvanzhou.github.io/tutorials/machine-learning/torch/\n",
      "13 有趣的机器学习系列 https://morvanzhou.github.io/tutorials/machine-learning/ML-intro/\n",
      "14 近期更新 https://morvanzhou.github.io/recent-posts/\n",
      "15 Tkinter GUI 教程系列 https://morvanzhou.github.io/tutorials/python-basic/tkinter/\n",
      "16 Threading 多线程教程系列 https://morvanzhou.github.io/tutorials/python-basic/threading/\n",
      "17 数据处理教程系列 https://morvanzhou.github.io/tutorials/data-manipulation/\n",
      "18 Matplotlib 画图教程系列 https://morvanzhou.github.io/tutorials/data-manipulation/plt/\n",
      "19 multiprocessing 多进程教程系列 https://morvanzhou.github.io/tutorials/python-basic/multiprocessing/\n",
      "20 高级爬虫: 高效无忧的 Scrapy 爬虫库 https://morvanzhou.github.io/tutorials/data-manipulation/scraping/5-02-scrapy/\n",
      "21 推荐学习顺序 https://morvanzhou.github.io/learning-steps/\n",
      "22 Sklearn 通用机器学习 教程系列 https://morvanzhou.github.io/tutorials/machine-learning/sklearn/\n",
      "23 Python基础 教程系列 https://morvanzhou.github.io/tutorials/python-basic/\n",
      "24 Linux 简易教学 https://morvanzhou.github.io/tutorials/others/linux-basic/\n",
      "25 Git 版本管理 教程系列 https://morvanzhou.github.io/tutorials/others/git/\n",
      "26 关于莫烦 https://morvanzhou.github.io/about/\n",
      "27 说吧~ https://morvanzhou.github.io/discuss/\n",
      "28 Numpy & Pandas 教程系列 https://morvanzhou.github.io/tutorials/data-manipulation/np-pd/\n",
      "29 Theano 教程系列 https://morvanzhou.github.io/tutorials/machine-learning/theano/\n",
      "30 机器学习系列 https://morvanzhou.github.io/tutorials/machine-learning/\n",
      "31 进化算法 Evolutionary Strategies 教程系列 https://morvanzhou.github.io/tutorials/machine-learning/evolutionary-algorithm/\n",
      "32 强化学习 Reinforcement Learning 教程系列 https://morvanzhou.github.io/tutorials/machine-learning/reinforcement-learning/\n",
      "33 Keras 教程系列 https://morvanzhou.github.io/tutorials/machine-learning/keras/\n",
      "34 迁移学习 Transfer Learning https://morvanzhou.github.io/tutorials/machine-learning/ML-intro/2-9-transfer-learning/\n",
      "False\n",
      "\n",
      "Distributed Crawling...\n",
      "\n",
      "Distributed Parsing...\n",
      "\n",
      "Analysing...\n",
      "35 pickle 保存数据 https://morvanzhou.github.io/tutorials/python-basic/basic/13-08-pickle/\n",
      "36 生成对抗网络 (GAN) https://morvanzhou.github.io/tutorials/machine-learning/ML-intro/2-6-GAN/\n",
      "37 从头开始做一个机器手臂2 写静态环境 https://morvanzhou.github.io/tutorials/machine-learning/ML-practice/RL-build-arm-from-scratch2/\n",
      "38 例子 登录窗口3 https://morvanzhou.github.io/tutorials/python-basic/tkinter/3-03-example3/\n",
      "39 什么是神经网络 (Neural Network) https://morvanzhou.github.io/tutorials/machine-learning/theano/1-1-B-NN/\n",
      "40 科普: 神经网络的黑盒不黑 https://morvanzhou.github.io/tutorials/machine-learning/torch/1-1-D-feature-representation/\n",
      "41 Sarsa(lambda) https://morvanzhou.github.io/tutorials/machine-learning/ML-intro/4-05-sarsa-lambda/\n",
      "42 Actor Critic (Tensorflow) https://morvanzhou.github.io/tutorials/machine-learning/reinforcement-learning/6-1-actor-critic/\n",
      "43 Animation 动画 https://morvanzhou.github.io/tutorials/data-manipulation/plt/5-1-animation/\n",
      "44 什么是神经网络 (Neural Network) https://morvanzhou.github.io/tutorials/machine-learning/tensorflow/1-1-B-NN/\n",
      "45 科普: 神经网络的黑盒不黑 https://morvanzhou.github.io/tutorials/machine-learning/keras/1-1-D-feature-representation/\n",
      "46 关系拟合 (回归) https://morvanzhou.github.io/tutorials/machine-learning/torch/3-01-regression/\n",
      "47 AutoEncoder (自编码/非监督学习) https://morvanzhou.github.io/tutorials/machine-learning/torch/4-04-autoencoder/\n",
      "48 Why Theano? https://morvanzhou.github.io/tutorials/machine-learning/theano/1-1-why/\n",
      "49 遗传算法 (Genetic Algorithm) https://morvanzhou.github.io/tutorials/machine-learning/ML-intro/5-01-genetic-algorithm/\n",
      "50 神经网络 梯度下降 https://morvanzhou.github.io/tutorials/machine-learning/torch/1-1-C-gradient-descent/\n",
      "51 while 循环 https://morvanzhou.github.io/tutorials/python-basic/basic/03-1-while/\n",
      "52 为什么选 Tensorflow? https://morvanzhou.github.io/tutorials/machine-learning/tensorflow/1-1-why/\n",
      "53 强化学习方法汇总 (Reinforcement Learning) https://morvanzhou.github.io/tutorials/machine-learning/ML-intro/4-02-RL-methods/\n",
      "54 RNN 循环神经网络 (回归) https://morvanzhou.github.io/tutorials/machine-learning/torch/4-03-RNN-regression/\n",
      "55 变量 (Variable) https://morvanzhou.github.io/tutorials/machine-learning/torch/2-02-variable/\n",
      "56 Linux 基本指令 nano 和 cat https://morvanzhou.github.io/tutorials/others/linux-basic/2-04-basic-command/\n",
      "57 图中图 https://morvanzhou.github.io/tutorials/data-manipulation/plt/4-3-plot-in-plot/\n",
      "58 Q-learning 算法更新 https://morvanzhou.github.io/tutorials/machine-learning/reinforcement-learning/2-2-tabular-q1/\n",
      "59 科普: 神经网络的黑盒不黑 https://morvanzhou.github.io/tutorials/machine-learning/tensorflow/1-1-D-feature-representation/\n",
      "60 BeautifulSoup 解析网页: CSS https://morvanzhou.github.io/tutorials/data-manipulation/scraping/2-02-beautifulsoup-css/\n",
      "61 Linux 基本指令 mkdir, rmdir 和 rm https://morvanzhou.github.io/tutorials/others/linux-basic/2-03-basic-command/\n",
      "62 安装 https://morvanzhou.github.io/tutorials/python-basic/basic/01-1-install/\n",
      "63 Autoencoder 自编码 https://morvanzhou.github.io/tutorials/machine-learning/keras/2-6-autoencoder/\n",
      "64 添加线程 Thread https://morvanzhou.github.io/tutorials/python-basic/threading/2-add-thread/\n",
      "65 Pandas 选择数据 https://morvanzhou.github.io/tutorials/data-manipulation/np-pd/3-2-pd-indexing/\n",
      "66 快速搭建法 https://morvanzhou.github.io/tutorials/machine-learning/torch/3-03-fast-nn/\n",
      "67 copy & deepcopy 浅复制 & 深复制 https://morvanzhou.github.io/tutorials/python-basic/basic/13-04-copy/\n",
      "68 什么是多线程 Threading https://morvanzhou.github.io/tutorials/python-basic/threading/1-why/\n",
      "69 Why Git? https://morvanzhou.github.io/tutorials/others/git/1-1-why/\n",
      "70 Save 保存 提取 https://morvanzhou.github.io/tutorials/machine-learning/theano/3-6-save/\n",
      "71 Numpy 属性 https://morvanzhou.github.io/tutorials/data-manipulation/np-pd/2-1-np-attributes/\n",
      "72 从头开始做一个机器手臂3 写动态环境 https://morvanzhou.github.io/tutorials/machine-learning/ML-practice/RL-build-arm-from-scratch3/\n",
      "73 科普: 人工神经网络 VS 生物神经网络 https://morvanzhou.github.io/tutorials/machine-learning/theano/1-1-A-ANN-and-NN/\n",
      "74 Dropout 解决 overfitting https://morvanzhou.github.io/tutorials/machine-learning/tensorflow/5-02-dropout/\n",
      "75 Numpy array 合并 https://morvanzhou.github.io/tutorials/data-manipulation/np-pd/2-6-np-concat/\n",
      "76 什么是 Sarsa https://morvanzhou.github.io/tutorials/machine-learning/reinforcement-learning/3-1-A-sarsa/\n",
      "77 messagebox 弹窗 https://morvanzhou.github.io/tutorials/python-basic/tkinter/2-10-messagebox/\n",
      "78 从头开始做一个汽车状态分类器2: 搭建模型 https://morvanzhou.github.io/tutorials/machine-learning/ML-practice/build-car-classifier-from-scratch2/\n",
      "79 为什么 Torch 是动态的 https://morvanzhou.github.io/tutorials/machine-learning/torch/5-01-dynamic/\n",
      "80 什么是自编码 (Autoencoder) https://morvanzhou.github.io/tutorials/machine-learning/keras/2-6-A-autoencoder/\n",
      "81 RNN LSTM 循环神经网络 (分类例子) https://morvanzhou.github.io/tutorials/machine-learning/tensorflow/5-08-RNN2/\n",
      "82 区分类型 (分类) https://morvanzhou.github.io/tutorials/machine-learning/torch/3-02-classification/\n",
      "83 Sarsa-lambda https://morvanzhou.github.io/tutorials/machine-learning/reinforcement-learning/3-3-tabular-sarsa-lambda/\n",
      "84 卷积神经网络 CNN (Convolutional Neural Network) https://morvanzhou.github.io/tutorials/machine-learning/ML-intro/2-2-CNN/\n",
      "85 Q Leaning https://morvanzhou.github.io/tutorials/machine-learning/ML-intro/4-03-q-learning/\n",
      "86 什么是 Deep Deterministic Policy Gradient (DDPG) https://morvanzhou.github.io/tutorials/machine-learning/reinforcement-learning/6-2-A-DDPG/\n",
      "87 小练习: 爬百度百科 https://morvanzhou.github.io/tutorials/data-manipulation/scraping/2-04-practice-baidu-baike/\n",
      "88 Numpy 基础运算1 https://morvanzhou.github.io/tutorials/data-manipulation/np-pd/2-3-np-math1/\n",
      "89 zip lambda map https://morvanzhou.github.io/tutorials/python-basic/basic/13-03-zip-lambda-map/\n",
      "90 神经网络 梯度下降 https://morvanzhou.github.io/tutorials/machine-learning/ML-intro/2-8-gradient-descent/\n",
      "91 读写文件 1 https://morvanzhou.github.io/tutorials/python-basic/basic/08-1-read-file/\n",
      "92 自编码 Autoencoder (非监督学习) https://morvanzhou.github.io/tutorials/machine-learning/tensorflow/5-11-autoencoder/\n",
      "93 Checkbutton 勾选项 https://morvanzhou.github.io/tutorials/python-basic/tkinter/2-06-checkbutton/\n",
      "94 Dropout 缓解过拟合 https://morvanzhou.github.io/tutorials/machine-learning/torch/5-03-dropout/\n",
      "95 用 Tensorflow 可视化梯度下降 https://morvanzhou.github.io/tutorials/machine-learning/tensorflow/5-15-tf-gradient-descent/\n",
      "96 BeautifulSoup 解析网页: 基础 https://morvanzhou.github.io/tutorials/data-manipulation/scraping/2-01-beautifulsoup-basic/\n",
      "97 CNN 卷积神经网络 https://morvanzhou.github.io/tutorials/machine-learning/torch/4-01-CNN/\n",
      "98 读写文件 2 https://morvanzhou.github.io/tutorials/python-basic/basic/08-2-read-file2/\n",
      "99 Save & reload 保存提取 https://morvanzhou.github.io/tutorials/machine-learning/keras/3-1-save/\n",
      "100 什么是 tkinter 窗口 https://morvanzhou.github.io/tutorials/python-basic/basic/13-07-tkinter/\n",
      "101 Contours 等高线图 https://morvanzhou.github.io/tutorials/data-manipulation/plt/3-3-contours/\n",
      "102 Regression 回归例子 https://morvanzhou.github.io/tutorials/machine-learning/theano/3-2-regression/\n",
      "103 基本用法 https://morvanzhou.github.io/tutorials/data-manipulation/plt/2-1-basic-usage/\n",
      "104 Tensorflow 2017 更新 https://morvanzhou.github.io/tutorials/machine-learning/tensorflow/5-14-tf2017/\n",
      "105 Legend 图例 https://morvanzhou.github.io/tutorials/data-manipulation/plt/2-5-lagend/\n",
      "106 Pandas 合并 concat https://morvanzhou.github.io/tutorials/data-manipulation/np-pd/3-6-pd-concat/\n",
      "107 从头开始做一个汽车状态分类器1: 分析数据 https://morvanzhou.github.io/tutorials/machine-learning/ML-practice/build-car-classifier-from-scratch1/\n",
      "108 Numpy 索引 https://morvanzhou.github.io/tutorials/data-manipulation/np-pd/2-5-np-indexing/\n",
      "109 什么是过拟合 (Overfitting) https://morvanzhou.github.io/tutorials/machine-learning/torch/5-03-A-overfitting/\n",
      "110 给你的 Ubuntu 安装软件 https://morvanzhou.github.io/tutorials/others/linux-basic/1-4-install-software/\n",
      "111 下载文件 https://morvanzhou.github.io/tutorials/data-manipulation/scraping/3-02-download/\n",
      "112 Tensorboard 可视化好帮手 2 https://morvanzhou.github.io/tutorials/machine-learning/tensorflow/4-2-tensorboard2/\n",
      "113 基础数学运算 https://morvanzhou.github.io/tutorials/python-basic/basic/02-2-basic-math/\n",
      "114 Dueling DQN (Tensorflow) https://morvanzhou.github.io/tutorials/machine-learning/reinforcement-learning/4-7-dueling-DQN/\n",
      "115 循环神经网络 RNN (Recurrent Neural Network) https://morvanzhou.github.io/tutorials/machine-learning/ML-intro/2-3-RNN/\n",
      "116 处理结构 https://morvanzhou.github.io/tutorials/machine-learning/tensorflow/2-1-structure/\n",
      "117 Sarsa 算法更新 https://morvanzhou.github.io/tutorials/machine-learning/reinforcement-learning/3-1-tabular-sarsa1/\n",
      "118 例子3 添加层 def add_layer() https://morvanzhou.github.io/tutorials/machine-learning/tensorflow/3-1-add-layer/\n",
      "119 Tensorboard 可视化好帮手 1 https://morvanzhou.github.io/tutorials/machine-learning/tensorflow/4-1-tensorboard1/\n",
      "120 次坐标轴 https://morvanzhou.github.io/tutorials/data-manipulation/plt/4-4-sencondary-axis/\n",
      "121 Saver 保存读取 https://morvanzhou.github.io/tutorials/machine-learning/tensorflow/5-06-save/\n",
      "122 什么是神经网络 (Neural Network) https://morvanzhou.github.io/tutorials/machine-learning/torch/1-1-B-NN/\n",
      "123 Prioritized Experience Replay (DQN) (Tensorflow) https://morvanzhou.github.io/tutorials/machine-learning/reinforcement-learning/4-6-prioritized-replay/\n",
      "124 scope 命名方法 https://morvanzhou.github.io/tutorials/machine-learning/tensorflow/5-12-scope/\n",
      "125 什么是 Policy Gradients https://morvanzhou.github.io/tutorials/machine-learning/reinforcement-learning/5-1-A-PG/\n",
      "126 神经进化 https://morvanzhou.github.io/tutorials/machine-learning/evolutionary-algorithm/4-01-neuro-evolution/\n",
      "127 选择好特征 (Good Features) https://morvanzhou.github.io/tutorials/machine-learning/ML-intro/3-03-choose-feature/\n",
      "128 交叉验证 1 Cross-validation https://morvanzhou.github.io/tutorials/machine-learning/sklearn/3-2-cross-validation1/\n",
      "129 Classification 分类学习 https://morvanzhou.github.io/tutorials/machine-learning/theano/3-4-classification/\n",
      "130 选择学习方法 https://morvanzhou.github.io/tutorials/machine-learning/sklearn/2-1-select-method/\n",
      "131 Activation function 激励函数 https://morvanzhou.github.io/tutorials/machine-learning/theano/2-4-activation/\n",
      "132 保存提取 https://morvanzhou.github.io/tutorials/machine-learning/torch/3-04-save-reload/\n",
      "133 Numpy array 分割 https://morvanzhou.github.io/tutorials/data-manipulation/np-pd/2-7-np-split/\n",
      "134 Sklearn 安装 https://morvanzhou.github.io/tutorials/machine-learning/sklearn/1-2-install/\n",
      "135 神经网络 梯度下降 https://morvanzhou.github.io/tutorials/machine-learning/keras/1-1-C-gradient-descent/\n",
      "136 Classification 分类学习 https://morvanzhou.github.io/tutorials/machine-learning/tensorflow/5-01-classifier/\n",
      "137 科普: 人工神经网络 VS 生物神经网络 https://morvanzhou.github.io/tutorials/machine-learning/ML-intro/2-0-ANN-and-NN/\n",
      "138 自编码 (Autoencoder) https://morvanzhou.github.io/tutorials/machine-learning/ML-intro/2-5-autoencoder/\n",
      "139 Policy Gradients https://morvanzhou.github.io/tutorials/machine-learning/ML-intro/4-07-PG/\n",
      "140 DQN 思维决策 (Tensorflow) https://morvanzhou.github.io/tutorials/machine-learning/reinforcement-learning/4-3-DQN3/\n",
      "141 Matplotlib 安装 https://morvanzhou.github.io/tutorials/data-manipulation/plt/1-2-install/\n",
      "142 通用学习模式 https://morvanzhou.github.io/tutorials/machine-learning/sklearn/2-2-general-pattern/\n",
      "143 RNN 循环神经网络 https://morvanzhou.github.io/tutorials/machine-learning/tensorflow/5-07-RNN1/\n",
      "144 dictionary 字典 https://morvanzhou.github.io/tutorials/python-basic/basic/11-4-dictionary/\n",
      "145 进程锁 Lock https://morvanzhou.github.io/tutorials/python-basic/multiprocessing/7-lock/\n",
      "146 强化学习方法汇总 (Reinforcement Learning) https://morvanzhou.github.io/tutorials/machine-learning/reinforcement-learning/1-1-B-RL-methods/\n",
      "147 什么是卷积神经网络 CNN (Convolutional Neural Network) https://morvanzhou.github.io/tutorials/machine-learning/tensorflow/5-03-A-CNN/\n",
      "148 设置坐标轴1 https://morvanzhou.github.io/tutorials/data-manipulation/plt/2-3-axis1/\n",
      "149 input 输入 https://morvanzhou.github.io/tutorials/python-basic/basic/10-1-input/\n",
      "150 Sarsa https://morvanzhou.github.io/tutorials/machine-learning/ML-intro/4-04-sarsa/\n",
      "151 全局 & 局部 变量 https://morvanzhou.github.io/tutorials/python-basic/basic/06-1-global-local/\n",
      "152 什么是迁移学习 Transfer Learning https://morvanzhou.github.io/tutorials/machine-learning/tensorflow/5-16-A-tranfer-learning/\n",
      "153 读写文件 3 https://morvanzhou.github.io/tutorials/python-basic/basic/08-3-read-file3/\n",
      "154 神经网络 (Neural Network) https://morvanzhou.github.io/tutorials/machine-learning/ML-intro/2-1-NN/\n",
      "155 Scatter 散点图 https://morvanzhou.github.io/tutorials/data-manipulation/plt/3-1-scatter/\n",
      "156 什么是激励函数 (Activation Function) https://morvanzhou.github.io/tutorials/machine-learning/theano/2-4-A-activation-function/\n",
      "157 OpenAI gym 环境库 https://morvanzhou.github.io/tutorials/machine-learning/reinforcement-learning/4-4-gym/\n",
      "158 Pandas plot 出图 https://morvanzhou.github.io/tutorials/data-manipulation/np-pd/3-8-pd-plot/\n",
      "159 Numpy 的创建 array https://morvanzhou.github.io/tutorials/data-manipulation/np-pd/2-2-np-array/\n",
      "160 例子3 结果可视化 https://morvanzhou.github.io/tutorials/machine-learning/tensorflow/3-3-visualize-result/\n",
      "161 Keras 安装 https://morvanzhou.github.io/tutorials/machine-learning/keras/1-2-install/\n",
      "162 科普: 人工神经网络 VS 生物神经网络 https://morvanzhou.github.io/tutorials/machine-learning/keras/1-1-A-ANN-and-NN/\n",
      "163 了解网页结构 https://morvanzhou.github.io/tutorials/data-manipulation/scraping/1-01-understand-website/\n",
      "164 加速爬虫: 异步加载 Asyncio https://morvanzhou.github.io/tutorials/data-manipulation/scraping/4-02-asyncio/\n",
      "165 从头开始做一个机器手臂4 加入强化学习算法 https://morvanzhou.github.io/tutorials/machine-learning/ML-practice/RL-build-arm-from-scratch4/\n",
      "166 Why Pytorch? https://morvanzhou.github.io/tutorials/machine-learning/torch/1-1-why/\n",
      "167 科普: 神经网络的黑盒不黑 https://morvanzhou.github.io/tutorials/machine-learning/ML-intro/2-7-feature-representation/\n",
      "168 可视化结果 回归例子 https://morvanzhou.github.io/tutorials/machine-learning/theano/3-3-visualize/\n",
      "169 Asynchronous Advantage Actor-Critic (A3C) (Tensorflow) https://morvanzhou.github.io/tutorials/machine-learning/reinforcement-learning/6-3-A3C/\n",
      "170 Why Sklearn? https://morvanzhou.github.io/tutorials/machine-learning/sklearn/1-1-why/\n",
      "171 机器学习 (Machine Learning) https://morvanzhou.github.io/tutorials/machine-learning/sklearn/1-1-A-ML/\n",
      "172 Theano 安装 https://morvanzhou.github.io/tutorials/machine-learning/theano/1-2-install/\n",
      "173 定义 Layer 类 https://morvanzhou.github.io/tutorials/machine-learning/theano/3-1-layer/\n",
      "174 什么是批标准化 (Batch Normalization) https://morvanzhou.github.io/tutorials/machine-learning/torch/5-04-A-batch-normalization/\n",
      "175 rebase 分支冲突 https://morvanzhou.github.io/tutorials/others/git/4-3-rebase/\n",
      "176 什么是激励函数 (Activation Function) https://morvanzhou.github.io/tutorials/machine-learning/torch/2-03-A-activation-function/\n",
      "177 (1+1)-ES https://morvanzhou.github.io/tutorials/machine-learning/evolutionary-algorithm/3-02-evolution-strategy-1+1-ES/\n",
      "178 Git 安装 https://morvanzhou.github.io/tutorials/others/git/1-2-install/\n",
      "179 什么是 Sarsa(lambda) https://morvanzhou.github.io/tutorials/machine-learning/reinforcement-learning/3-3-A-sarsa-lambda/\n",
      "180 Canvas 画布 https://morvanzhou.github.io/tutorials/python-basic/tkinter/2-07-canvas/\n",
      "181 Sarsa 思维决策 https://morvanzhou.github.io/tutorials/machine-learning/reinforcement-learning/3-2-tabular-sarsa2/\n",
      "182 例子 登录窗口1 https://morvanzhou.github.io/tutorials/python-basic/tkinter/3-01-example1/\n",
      "183 RNN Regressor 循环神经网络 https://morvanzhou.github.io/tutorials/machine-learning/keras/2-5-RNN-LSTM-Regressor/\n",
      "184 GIL 不一定有效率 https://morvanzhou.github.io/tutorials/python-basic/threading/5-GIL/\n",
      "185 什么是 LSTM 循环神经网络 https://morvanzhou.github.io/tutorials/machine-learning/torch/4-02-B-LSTM/\n",
      "186 if elif else 判断 https://morvanzhou.github.io/tutorials/python-basic/basic/04-3-if-elif-else/\n",
      "187 什么是生成对抗网络 (GAN) https://morvanzhou.github.io/tutorials/machine-learning/torch/4-06-A-GAN/\n",
      "188 科普: 人工神经网络 VS 生物神经网络 https://morvanzhou.github.io/tutorials/machine-learning/torch/1-1-A-ANN-and-NN/\n",
      "189 Microbial Genetic Algorithm https://morvanzhou.github.io/tutorials/machine-learning/evolutionary-algorithm/2-04-microbial-genetic-algorithm/\n",
      "190 Annotation 标注 https://morvanzhou.github.io/tutorials/data-manipulation/plt/2-6-annotation/\n",
      "191 什么是过拟合 (Overfitting) https://morvanzhou.github.io/tutorials/machine-learning/theano/3-5-A-overfitting/\n",
      "192 加速神经网络训练 (Speed Up Training) https://morvanzhou.github.io/tutorials/machine-learning/tensorflow/3-4-A-speed-up-learning/\n",
      "193 Regressor 回归 https://morvanzhou.github.io/tutorials/machine-learning/keras/2-1-regressor/\n",
      "194 什么是 Tkinter https://morvanzhou.github.io/tutorials/python-basic/tkinter/1-1-why/\n",
      "195 设置坐标轴2 https://morvanzhou.github.io/tutorials/data-manipulation/plt/2-4-axis2/\n",
      "196 存储进程输出 Queue https://morvanzhou.github.io/tutorials/python-basic/multiprocessing/3-queue/\n",
      "197 强化学习 (Reinforcement Learning) https://morvanzhou.github.io/tutorials/machine-learning/ML-intro/4-01-RL/\n",
      "198 Label & Button 标签和按钮 https://morvanzhou.github.io/tutorials/python-basic/tkinter/2-01-label-button/\n",
      "199 例子 登录窗口2 https://morvanzhou.github.io/tutorials/python-basic/tkinter/3-02-example2/\n",
      "200 什么是神经网络进化 (Neuro-Evolution) https://morvanzhou.github.io/tutorials/machine-learning/evolutionary-algorithm/4-00-neuro-evolution/\n",
      "201 Pandas 基本介绍 https://morvanzhou.github.io/tutorials/data-manipulation/np-pd/3-1-pd-intro/\n",
      "202 Numpy 基础运算2 https://morvanzhou.github.io/tutorials/data-manipulation/np-pd/2-4-np-math2/\n",
      "203 pack grid place 放置位置 https://morvanzhou.github.io/tutorials/python-basic/tkinter/2-11-pack-grid-place/\n",
      "204 什么是 Actor Critic https://morvanzhou.github.io/tutorials/machine-learning/reinforcement-learning/6-1-A-AC/\n",
      "205 Double DQN (Tensorflow) https://morvanzhou.github.io/tutorials/machine-learning/reinforcement-learning/4-5-double_DQN/\n",
      "206 进化算法 简介 https://morvanzhou.github.io/tutorials/machine-learning/evolutionary-algorithm/1-01-intro/\n",
      "207 Pandas 设置值 https://morvanzhou.github.io/tutorials/data-manipulation/np-pd/3-3-pd-assign/\n",
      "208 自己的模块 https://morvanzhou.github.io/tutorials/python-basic/basic/12-2-personal-module/\n",
      "209 分支 (branch) https://morvanzhou.github.io/tutorials/others/git/4-1-branch/\n",
      "210 RNN LSTM (回归例子) https://morvanzhou.github.io/tutorials/machine-learning/tensorflow/5-09-RNN3/\n",
      "211 什么是 Multiprocessing https://morvanzhou.github.io/tutorials/python-basic/multiprocessing/1-why/\n",
      "212 处理不均衡数据 (Imbalanced data) https://morvanzhou.github.io/tutorials/machine-learning/ML-intro/3-07-imbalanced-data/\n",
      "213 怎么样从手机 (Android安卓/IOS苹果) 通过 SSH 远程 Linux https://morvanzhou.github.io/tutorials/others/linux-basic/4-03-ssh-from-phone/\n",
      "214 RNN 循环神经网络 (分类) https://morvanzhou.github.io/tutorials/machine-learning/torch/4-02-RNN-classification/\n",
      "215 小练习: 下载美图 https://morvanzhou.github.io/tutorials/data-manipulation/scraping/3-03-practice-download-image/\n",
      "216 神经网络 梯度下降 https://morvanzhou.github.io/tutorials/machine-learning/theano/1-1-C-gradient-descent/\n",
      "217 怎么样从 Windows 通过 SSH 远程 Linux https://morvanzhou.github.io/tutorials/others/linux-basic/4-02-ssh-from-windows/\n",
      "218 例子 旅行商人问题 (Travel Sales Problem) https://morvanzhou.github.io/tutorials/machine-learning/evolutionary-algorithm/2-03-genetic-algorithm-travel-sales-problem/\n",
      "219 什么是激励函数 (Activation Function) https://morvanzhou.github.io/tutorials/machine-learning/tensorflow/2-6-A-activation-function/\n",
      "220 什么是 LSTM 循环神经网络 https://morvanzhou.github.io/tutorials/machine-learning/tensorflow/5-07-B-LSTM/\n",
      "221 Natural Evolution Strategy https://morvanzhou.github.io/tutorials/machine-learning/evolutionary-algorithm/3-03-evolution-strategy-natural-evolution-strategy/\n",
      "222 Pandas 导入导出 https://morvanzhou.github.io/tutorials/data-manipulation/np-pd/3-5-pd-to/\n",
      "223 什么是神经网络 (Neural Network) https://morvanzhou.github.io/tutorials/machine-learning/keras/1-1-B-NN/\n",
      "224 什么是 强化学习 (Reinforcement Learning) https://morvanzhou.github.io/tutorials/machine-learning/reinforcement-learning/1-1-A-RL/\n",
      "225 tick 能见度 https://morvanzhou.github.io/tutorials/data-manipulation/plt/2-7-tick-visibility/\n",
      "226 if 判断 https://morvanzhou.github.io/tutorials/python-basic/basic/04-1-if/\n",
      "227 def 函数 https://morvanzhou.github.io/tutorials/python-basic/basic/05-1-def/\n",
      "228 NEAT 强化学习 https://morvanzhou.github.io/tutorials/machine-learning/evolutionary-algorithm/4-03-neat-reinforcement-learning/\n",
      "229 Regularization 正规化 https://morvanzhou.github.io/tutorials/machine-learning/theano/3-5-regularization/\n",
      "230 批标准化 (Batch Normalization) https://morvanzhou.github.io/tutorials/machine-learning/ML-intro/3-08-batch-normalization/\n",
      "231 安装 Ubuntu 17.10 https://morvanzhou.github.io/tutorials/others/linux-basic/1-2-install/\n",
      "232 Image 图片 https://morvanzhou.github.io/tutorials/data-manipulation/plt/3-4-image/\n",
      "233 Why Linux? https://morvanzhou.github.io/tutorials/others/linux-basic/1-1-why/\n",
      "234 基本用法 https://morvanzhou.github.io/tutorials/machine-learning/theano/2-1-basic-usage/\n",
      "235 什么是卷积神经网络 CNN (Convolutional Neural Network) https://morvanzhou.github.io/tutorials/machine-learning/keras/2-3-A-CNN/\n",
      "236 RNN LSTM (回归例子可视化) https://morvanzhou.github.io/tutorials/machine-learning/tensorflow/5-10-RNN4/\n",
      "237 遗传算法 https://morvanzhou.github.io/tutorials/machine-learning/evolutionary-algorithm/2-01-genetic-algorithm/\n",
      "238 Shared 变量 https://morvanzhou.github.io/tutorials/machine-learning/theano/2-3-shared-variable/\n",
      "239 遗传算法 (Genetic Algorithm) https://morvanzhou.github.io/tutorials/machine-learning/evolutionary-algorithm/2-00-genetic-algorithm/\n",
      "240 元组 列表 https://morvanzhou.github.io/tutorials/python-basic/basic/11-1-array-list/\n",
      "241 Linux 基本指令 ls 和 cd https://morvanzhou.github.io/tutorials/others/linux-basic/2-01-basic-command/\n",
      "242 什么是 DQN https://morvanzhou.github.io/tutorials/machine-learning/torch/4-05-A-DQN/\n",
      "243 Evolution Strategy 强化学习 https://morvanzhou.github.io/tutorials/machine-learning/evolutionary-algorithm/4-04-evolution-strategy-reinforcement-learning/\n",
      "244 NEAT 监督学习 https://morvanzhou.github.io/tutorials/machine-learning/evolutionary-algorithm/4-02-neat-supervised-learning/\n",
      "245 神经网络在做什么 https://morvanzhou.github.io/tutorials/machine-learning/theano/1-3-NN-job/\n",
      "246 激励函数 Activation Function https://morvanzhou.github.io/tutorials/machine-learning/tensorflow/2-6-activation/\n",
      "247 添加进程 Process https://morvanzhou.github.io/tutorials/python-basic/multiprocessing/2-add/\n",
      "248 什么是 DQN https://morvanzhou.github.io/tutorials/machine-learning/reinforcement-learning/4-1-A-DQN/\n",
      "249 神经网络 梯度下降 https://morvanzhou.github.io/tutorials/machine-learning/tensorflow/1-1-C-gradient-descent/\n",
      "250 list 列表 https://morvanzhou.github.io/tutorials/python-basic/basic/11-2-list/\n",
      "251 怎么样用 TeamViewer 和 VNC 从远程控制电脑 https://morvanzhou.github.io/tutorials/others/linux-basic/4-04-teamviewer-vnc/\n",
      "252 兼容 backend https://morvanzhou.github.io/tutorials/machine-learning/keras/1-3-backend/\n",
      "253 回到从前 (reset) https://morvanzhou.github.io/tutorials/others/git/3-1-reset/\n",
      "254 Why Keras? https://morvanzhou.github.io/tutorials/machine-learning/keras/1-1-why/\n",
      "255 Function 用法 https://morvanzhou.github.io/tutorials/machine-learning/theano/2-2-function/\n",
      "256 为什么用强化学习 Why? https://morvanzhou.github.io/tutorials/machine-learning/reinforcement-learning/1-1-why/\n",
      "257 Q-learning 思维决策 https://morvanzhou.github.io/tutorials/machine-learning/reinforcement-learning/2-3-tabular-q2/\n",
      "258 Menubar 菜单 https://morvanzhou.github.io/tutorials/python-basic/tkinter/2-08-menubar/\n",
      "259 变量 variable https://morvanzhou.github.io/tutorials/python-basic/basic/02-3-variable/\n",
      "260 加速神经网络训练 (Speed Up Training) https://morvanzhou.github.io/tutorials/machine-learning/torch/3-06-A-speed-up-learning/\n",
      "261 CNN 卷积神经网络 https://morvanzhou.github.io/tutorials/machine-learning/keras/2-3-CNN/\n",
      "262 多维列表 https://morvanzhou.github.io/tutorials/python-basic/basic/11-3-multi-dim-list/\n",
      "263 回到从前 (checkout 针对单个文件) https://morvanzhou.github.io/tutorials/others/git/3-2-checkout/\n",
      "264 总结和更多 https://morvanzhou.github.io/tutorials/machine-learning/theano/4-1-summary/\n",
      "265 课程要求 https://morvanzhou.github.io/tutorials/machine-learning/reinforcement-learning/1-2-requirment/\n",
      "266 快速了解 Ubuntu 17.10 基本界面 https://morvanzhou.github.io/tutorials/others/linux-basic/1-3-system-overview/\n",
      "267 Numpy 和 Pandas 安装 https://morvanzhou.github.io/tutorials/data-manipulation/np-pd/1-2-install/\n",
      "268 Policy Gradients 算法更新 (Tensorflow) https://morvanzhou.github.io/tutorials/machine-learning/reinforcement-learning/5-1-policy-gradient-softmax1/\n",
      "269 LSTM RNN 循环神经网络 (LSTM) https://morvanzhou.github.io/tutorials/machine-learning/ML-intro/2-4-LSTM/\n",
      "270 加速爬虫: 多进程分布式 https://morvanzhou.github.io/tutorials/data-manipulation/scraping/4-01-distributed-scraping/\n",
      "271 机器学习 (Machine Learning) https://morvanzhou.github.io/tutorials/machine-learning/ML-intro/1-1-machine-learning/\n",
      "272 Deep Deterministic Policy Gradient (DDPG) (Tensorflow) https://morvanzhou.github.io/tutorials/machine-learning/reinforcement-learning/6-2-DDPG/\n",
      "273 if else 判断 https://morvanzhou.github.io/tutorials/python-basic/basic/04-2-if-else/\n",
      "274 try 错误处理 https://morvanzhou.github.io/tutorials/python-basic/basic/13-02-try/\n",
      "275 什么是自编码 (Autoencoder) https://morvanzhou.github.io/tutorials/machine-learning/tensorflow/5-11-A-autoencoder/\n",
      "276 第一个版本库 Repository https://morvanzhou.github.io/tutorials/others/git/2-1-repository/\n",
      "277 什么是自编码 (Autoencoder) https://morvanzhou.github.io/tutorials/machine-learning/torch/4-04-A-autoencoder/\n",
      "278 Batch Normalization 批标准化 https://morvanzhou.github.io/tutorials/machine-learning/torch/5-04-batch-normalization/\n",
      "279 什么是过拟合 (Overfitting) https://morvanzhou.github.io/tutorials/machine-learning/tensorflow/5-02-A-overfitting/\n",
      "280 CNN 卷积神经网络 2 https://morvanzhou.github.io/tutorials/machine-learning/tensorflow/5-04-CNN2/\n",
      "281 Deep Deterministic Policy Gradient (DDPG) https://morvanzhou.github.io/tutorials/machine-learning/ML-intro/4-09-DDPG/\n",
      "282 Entry & Text 输入, 文本框 https://morvanzhou.github.io/tutorials/python-basic/tkinter/2-02-entry-text/\n",
      "283 函数参数 https://morvanzhou.github.io/tutorials/python-basic/basic/05-2-def-parameters/\n",
      "284 DQN https://morvanzhou.github.io/tutorials/machine-learning/ML-intro/4-06-DQN/\n",
      "285 函数默认参数 https://morvanzhou.github.io/tutorials/python-basic/basic/05-3-def-default-parameters/\n",
      "286 AlphaGo Zero 为什么更厉害? https://morvanzhou.github.io/tutorials/machine-learning/ML-intro/4-11-AlphaGo-zero/\n",
      "287 Pandas 合并 merge https://morvanzhou.github.io/tutorials/data-manipulation/np-pd/3-7-pd-merge/\n",
      "288 Batch Normalization 批标准化 https://morvanzhou.github.io/tutorials/machine-learning/tensorflow/5-13-BN/\n",
      "289 正则表达式 https://morvanzhou.github.io/tutorials/python-basic/basic/13-10-regular-expression/\n",
      "290 例子2 https://morvanzhou.github.io/tutorials/machine-learning/tensorflow/2-2-example2/\n",
      "291 sklearn 强大数据库 https://morvanzhou.github.io/tutorials/machine-learning/sklearn/2-3-database/\n",
      "292 CNN 卷积神经网络 3 https://morvanzhou.github.io/tutorials/machine-learning/tensorflow/5-05-CNN3/\n",
      "293 自己的云计算, 把 Linux 当成你的云计算平台 https://morvanzhou.github.io/tutorials/others/linux-basic/5-01-remote-learning/\n",
      "294 Asynchronous Advantage Actor-Critic (A3C) https://morvanzhou.github.io/tutorials/machine-learning/ML-intro/4-10-A3C/\n",
      "295 什么是循环神经网络 RNN (Recurrent Neural Network) https://morvanzhou.github.io/tutorials/machine-learning/torch/4-02-A-RNN/\n",
      "296 神经网络进化 (Neuro-Evolution) https://morvanzhou.github.io/tutorials/machine-learning/ML-intro/5-03-neuro-evolution/\n",
      "297 DQN 算法更新 (Tensorflow) https://morvanzhou.github.io/tutorials/machine-learning/reinforcement-learning/4-1-DQN1/\n",
      "298 什么是循环神经网络 RNN (Recurrent Neural Network) https://morvanzhou.github.io/tutorials/machine-learning/keras/2-4-A-RNN/\n",
      "299 for 循环 https://morvanzhou.github.io/tutorials/python-basic/basic/03-2-for/\n",
      "300 Variable 变量 https://morvanzhou.github.io/tutorials/machine-learning/tensorflow/2-4-variable/\n",
      "301 Torch 或 Numpy https://morvanzhou.github.io/tutorials/machine-learning/torch/2-01-torch-numpy/\n",
      "302 进程池 Pool https://morvanzhou.github.io/tutorials/python-basic/multiprocessing/5-pool/\n",
      "303 怎么样从 MacOS 或 Linux 通过 SSH 远程 Linux https://morvanzhou.github.io/tutorials/others/linux-basic/4-01-ssh-from-linux-or-mac/\n",
      "304 print 功能 https://morvanzhou.github.io/tutorials/python-basic/basic/02-1-print/\n",
      "305 Subplot 分格显示 https://morvanzhou.github.io/tutorials/data-manipulation/plt/4-2-subplot2/\n",
      "306 L1 / L2 正规化 (Regularization) https://morvanzhou.github.io/tutorials/machine-learning/ML-intro/3-09-l1l2regularization/\n",
      "307 激励函数 (Activation) https://morvanzhou.github.io/tutorials/machine-learning/torch/2-03-activation/\n",
      "308 Numpy copy & deep copy https://morvanzhou.github.io/tutorials/data-manipulation/np-pd/2-8-np-copy/\n",
      "309 DQN 强化学习 https://morvanzhou.github.io/tutorials/machine-learning/torch/4-05-DQN/\n",
      "310 3D 数据 https://morvanzhou.github.io/tutorials/data-manipulation/plt/3-5-3d/\n",
      "311 merge 分支冲突 https://morvanzhou.github.io/tutorials/others/git/4-2-merge-conflict/\n",
      "312 Classifier 分类 https://morvanzhou.github.io/tutorials/machine-learning/keras/2-2-classifier/\n",
      "313 共享内存 shared memory https://morvanzhou.github.io/tutorials/python-basic/multiprocessing/6-shared-memory/\n",
      "314 什么是 LSTM 循环神经网络 https://morvanzhou.github.io/tutorials/machine-learning/keras/2-4-B-LSTM/\n",
      "315 例子 配对句子 https://morvanzhou.github.io/tutorials/machine-learning/evolutionary-algorithm/2-02-genetic-algorithm-match-phrase/\n",
      "316 小例子 https://morvanzhou.github.io/tutorials/machine-learning/reinforcement-learning/2-1-general-rl/\n",
      "317 模块安装 https://morvanzhou.github.io/tutorials/python-basic/basic/07-1-module-install/\n",
      "318 Optimizer 优化器 https://morvanzhou.github.io/tutorials/machine-learning/torch/3-06-optimizer/\n",
      "319 正规化 Normalization https://morvanzhou.github.io/tutorials/machine-learning/sklearn/3-1-normalization/\n",
      "320 效率对比 threading & multiprocessing https://morvanzhou.github.io/tutorials/python-basic/multiprocessing/4-comparison/\n",
      "321 Actor Critic https://morvanzhou.github.io/tutorials/machine-learning/ML-intro/4-08-AC/\n",
      "322 检验神经网络 (Evaluation) https://morvanzhou.github.io/tutorials/machine-learning/ML-intro/3-01-Evaluate-NN/\n",
      "323 Bar 柱状图 https://morvanzhou.github.io/tutorials/data-manipulation/plt/3-2-Bar/\n",
      "324 Linux 基本指令 touch, cp 和 mv https://morvanzhou.github.io/tutorials/others/linux-basic/2-02-basic-command/\n",
      "325 记录修改 (log & diff) https://morvanzhou.github.io/tutorials/others/git/2-2-modified/\n",
      "326 为什么用 Numpy 还是慢, 你用对了吗? https://morvanzhou.github.io/tutorials/data-manipulation/np-pd/4-1-speed-up-numpy/\n",
      "327 join 功能 https://morvanzhou.github.io/tutorials/python-basic/threading/3-join/\n",
      "328 从头开始做一个机器手臂5 完善测试 https://morvanzhou.github.io/tutorials/machine-learning/ML-practice/RL-build-arm-from-scratch5/\n",
      "329 Placeholder 传入值 https://morvanzhou.github.io/tutorials/machine-learning/tensorflow/2-5-placeholde/\n",
      "330 什么是进化策略 (Evolution Strategy) https://morvanzhou.github.io/tutorials/machine-learning/evolutionary-algorithm/3-00-evolution-strategy/\n",
      "331 线程锁 Lock https://morvanzhou.github.io/tutorials/python-basic/threading/6-lock/\n",
      "332 Linux 文件权限 https://morvanzhou.github.io/tutorials/others/linux-basic/3-01-file-permissions/\n",
      "333 储存进程结果 Queue https://morvanzhou.github.io/tutorials/python-basic/threading/4-queue/\n",
      "334 figure 图像 https://morvanzhou.github.io/tutorials/data-manipulation/plt/2-2-figure/\n",
      "335 交叉验证 3 Cross-validation https://morvanzhou.github.io/tutorials/machine-learning/sklearn/3-4-cross-validation3/\n",
      "336 import 模块 https://morvanzhou.github.io/tutorials/python-basic/basic/12-1-import/\n",
      "337 Subplot 多合一显示 https://morvanzhou.github.io/tutorials/data-manipulation/plt/4-1-subpot1/\n",
      "338 Frame 框架 https://morvanzhou.github.io/tutorials/python-basic/tkinter/2-09-frame/\n",
      "339 GAN (Generative Adversarial Nets 生成对抗网络) https://morvanzhou.github.io/tutorials/machine-learning/torch/4-06-GAN/\n",
      "340 加速神经网络训练 (Speed Up Training) https://morvanzhou.github.io/tutorials/machine-learning/ML-intro/3-06-speed-up-learning/\n",
      "341 GPU 加速运算 https://morvanzhou.github.io/tutorials/machine-learning/torch/5-02-GPU/\n",
      "342 Radiobutton 选择按钮 https://morvanzhou.github.io/tutorials/python-basic/tkinter/2-04-radiobutton/\n",
      "343 Scale 尺度 https://morvanzhou.github.io/tutorials/python-basic/tkinter/2-05-scale/\n",
      "344 批训练 https://morvanzhou.github.io/tutorials/machine-learning/torch/3-05-train-on-batch/\n",
      "345 continue & break https://morvanzhou.github.io/tutorials/python-basic/basic/13-01-continue-break/\n",
      "346 Distributed Proximal Policy Optimization (DPPO) (Tensorflow) https://morvanzhou.github.io/tutorials/machine-learning/reinforcement-learning/6-4-DPPO/\n",
      "347 交叉验证 2 Cross-validation https://morvanzhou.github.io/tutorials/machine-learning/sklearn/3-3-cross-validation2/\n",
      "348 激励函数 (Activation Function) https://morvanzhou.github.io/tutorials/machine-learning/ML-intro/3-04-activation-function/\n",
      "349 什么是批标准化 (Batch Normalization) https://morvanzhou.github.io/tutorials/machine-learning/tensorflow/5-13-A-batch-normalization/\n",
      "350 sklearn 常用属性与功能 https://morvanzhou.github.io/tutorials/machine-learning/sklearn/2-4-model-attributes/\n",
      "351 threading 什么是多线程 https://morvanzhou.github.io/tutorials/python-basic/basic/13-05-threading/\n",
      "352 Policy Gradients 思维决策 (Tensorflow) https://morvanzhou.github.io/tutorials/machine-learning/reinforcement-learning/5-2-policy-gradient-softmax2/\n",
      "353 Pandas 处理丢失数据 https://morvanzhou.github.io/tutorials/data-manipulation/np-pd/3-4-pd-nan/\n",
      "354 保存模型 https://morvanzhou.github.io/tutorials/machine-learning/sklearn/3-5-save/\n",
      "355 DQN 神经网络 (Tensorflow) https://morvanzhou.github.io/tutorials/machine-learning/reinforcement-learning/4-2-DQN2/\n",
      "356 从头开始做一个机器手臂1 搭建结构 https://morvanzhou.github.io/tutorials/machine-learning/ML-practice/RL-build-arm-from-scratch1/\n",
      "357 多功能的 Requests https://morvanzhou.github.io/tutorials/data-manipulation/scraping/3-01-requests/\n",
      "358 特征标准化 (Feature Normalization) https://morvanzhou.github.io/tutorials/machine-learning/ML-intro/3-02-normalization/\n",
      "359 set 找不同 https://morvanzhou.github.io/tutorials/python-basic/basic/13-09-set/\n",
      "360 class 类 init 功能 https://morvanzhou.github.io/tutorials/python-basic/basic/09-2-class-init/\n",
      "361 Tensorflow 安装 https://morvanzhou.github.io/tutorials/machine-learning/tensorflow/1-2-install/\n",
      "362 进化策略 (Evolution Strategy) https://morvanzhou.github.io/tutorials/machine-learning/ML-intro/5-02-evolution-strategy/\n",
      "363 什么是卷积神经网络 CNN (Convolutional Neural Network) https://morvanzhou.github.io/tutorials/machine-learning/torch/4-01-A-CNN/\n",
      "364 优化器 optimizer https://morvanzhou.github.io/tutorials/machine-learning/tensorflow/3-4-optimizer/\n",
      "365 为什么用 Matplotlib https://morvanzhou.github.io/tutorials/data-manipulation/plt/1-1-why/\n",
      "366 神经网络在干嘛 https://morvanzhou.github.io/tutorials/machine-learning/tensorflow/1-3-what-does-NN-do/\n",
      "367 Github 在线代码管理 https://morvanzhou.github.io/tutorials/others/git/5-1-github/\n",
      "368 Session 会话控制 https://morvanzhou.github.io/tutorials/machine-learning/tensorflow/2-3-session/\n",
      "369 科普: 神经网络的黑盒不黑 https://morvanzhou.github.io/tutorials/machine-learning/theano/1-1-D-feature-representation/\n",
      "370 科普: 人工神经网络 VS 生物神经网络 https://morvanzhou.github.io/tutorials/machine-learning/tensorflow/1-1-A-ANN-and-NN/\n",
      "371 BeautifulSoup 解析网页: 正则表达 https://morvanzhou.github.io/tutorials/data-manipulation/scraping/2-03-beautifulsoup-regex/\n",
      "372 临时修改 (stash) https://morvanzhou.github.io/tutorials/others/git/4-4-stash/\n",
      "373 multiprocessing 什么是多进程 https://morvanzhou.github.io/tutorials/python-basic/basic/13-06-multiprocessing/\n",
      "374 什么是循环神经网络 RNN (Recurrent Neural Network) https://morvanzhou.github.io/tutorials/machine-learning/tensorflow/5-07-A-RNN/\n",
      "375 什么是 Asynchronous Advantage Actor-Critic (A3C) https://morvanzhou.github.io/tutorials/machine-learning/reinforcement-learning/6-3-A1-A3C/\n",
      "376 为什么要计算机视觉 https://morvanzhou.github.io/tutorials/machine-learning/computer-vision/1-1-why/\n",
      "377 什么是 Q Leaning https://morvanzhou.github.io/tutorials/machine-learning/reinforcement-learning/2-1-A-q-learning/\n",
      "378 例子3 建造神经网络 https://morvanzhou.github.io/tutorials/machine-learning/tensorflow/3-2-create-NN/\n",
      "379 class 类 https://morvanzhou.github.io/tutorials/python-basic/basic/09-1-class/\n",
      "380 Why Numpy & Pandas? https://morvanzhou.github.io/tutorials/data-manipulation/np-pd/1-1-why/\n",
      "381 进化策略 https://morvanzhou.github.io/tutorials/machine-learning/evolutionary-algorithm/3-01-evolution-strategy/\n",
      "382 自己的云计算, 多电脑共享你云端文件 https://morvanzhou.github.io/tutorials/others/linux-basic/5-02-share-folder/\n",
      "383 CNN 卷积神经网络 1 https://morvanzhou.github.io/tutorials/machine-learning/tensorflow/5-03-CNN1/\n",
      "384 检验神经网络 (Evaluation) https://morvanzhou.github.io/tutorials/machine-learning/sklearn/3-2-A-Evaluate-NN/\n",
      "385 过拟合 (Overfitting) https://morvanzhou.github.io/tutorials/machine-learning/ML-intro/3-05-overfitting/\n",
      "386 Pytorch 安装 https://morvanzhou.github.io/tutorials/machine-learning/torch/1-2-install/\n",
      "387 Listbox 列表部件 https://morvanzhou.github.io/tutorials/python-basic/tkinter/2-03-listbox/\n",
      "388 RNN Classifier 循环神经网络 https://morvanzhou.github.io/tutorials/machine-learning/keras/2-4-RNN-classifier/\n",
      "False\n",
      "Total time: 347.7 s\n"
     ]
    }
   ],
   "source": [
    "unseen=set([base_url,])\n",
    "seen=set()\n",
    "\n",
    "count,t1=1,time.time()\n",
    "\n",
    "while len(unseen)!=0:\n",
    "    if restricted_crawl and len(seen) >20:\n",
    "        #如果不是内网，则最多爬20个\n",
    "        print(restricted_crawl,len(seen))\n",
    "        break\n",
    "        \n",
    "    print('\\nDistributed Crawling...')\n",
    "    htmls=[crawl(url) for url in unseen]\n",
    "    \n",
    "    print('\\nDistributed Parsing...')\n",
    "    results=[parse(html) for html in htmls]\n",
    "    \n",
    "    print('\\nAnalysing...')\n",
    "    seen.update(unseen)\n",
    "    unseen.clear()\n",
    "    \n",
    "    for title,page_urls,url in results:\n",
    "        print(count,title,url)\n",
    "        count+=1\n",
    "        unseen.update(page_urls-seen)\n",
    "    print(restricted_crawl)\n",
    "    \n",
    "print('Total time: %.1f s'%(time.time()-t1))"
   ]
  },
  {
   "cell_type": "markdown",
   "metadata": {},
   "source": [
    "## 多进程"
   ]
  },
  {
   "cell_type": "code",
   "execution_count": 4,
   "metadata": {
    "ExecuteTime": {
     "end_time": "2020-03-24T14:22:14.674940Z",
     "start_time": "2020-03-24T14:22:14.654922Z"
    }
   },
   "outputs": [
    {
     "ename": "NameError",
     "evalue": "name 'aaa' is not defined",
     "output_type": "error",
     "traceback": [
      "\u001b[1;31m---------------------------------------------------------------------------\u001b[0m",
      "\u001b[1;31mNameError\u001b[0m                                 Traceback (most recent call last)",
      "\u001b[1;32m<ipython-input-4-972a1a11f199>\u001b[0m in \u001b[0;36m<module>\u001b[1;34m()\u001b[0m\n\u001b[1;32m----> 1\u001b[1;33m \u001b[0maaa\u001b[0m\u001b[1;33m\u001b[0m\u001b[0m\n\u001b[0m",
      "\u001b[1;31mNameError\u001b[0m: name 'aaa' is not defined"
     ]
    }
   ],
   "source": [
    "aaa"
   ]
  }
 ],
 "metadata": {
  "kernelspec": {
   "display_name": "Python 3",
   "language": "python",
   "name": "python3"
  },
  "language_info": {
   "codemirror_mode": {
    "name": "ipython",
    "version": 3
   },
   "file_extension": ".py",
   "mimetype": "text/x-python",
   "name": "python",
   "nbconvert_exporter": "python",
   "pygments_lexer": "ipython3",
   "version": "3.7.0"
  },
  "toc": {
   "base_numbering": 1,
   "nav_menu": {},
   "number_sections": true,
   "sideBar": true,
   "skip_h1_title": false,
   "title_cell": "Table of Contents",
   "title_sidebar": "Contents",
   "toc_cell": false,
   "toc_position": {},
   "toc_section_display": true,
   "toc_window_display": false
  },
  "varInspector": {
   "cols": {
    "lenName": 16,
    "lenType": 16,
    "lenVar": 40
   },
   "kernels_config": {
    "python": {
     "delete_cmd_postfix": "",
     "delete_cmd_prefix": "del ",
     "library": "var_list.py",
     "varRefreshCmd": "print(var_dic_list())"
    },
    "r": {
     "delete_cmd_postfix": ") ",
     "delete_cmd_prefix": "rm(",
     "library": "var_list.r",
     "varRefreshCmd": "cat(var_dic_list()) "
    }
   },
   "types_to_exclude": [
    "module",
    "function",
    "builtin_function_or_method",
    "instance",
    "_Feature"
   ],
   "window_display": false
  }
 },
 "nbformat": 4,
 "nbformat_minor": 2
}
